{
 "cells": [
  {
   "cell_type": "markdown",
   "metadata": {},
   "source": [
    "## Implicit Schemes\n",
    "\n",
    "Discretized equation:\n",
    "$$\n",
    "\\frac{T_{i}^{n+1}-T_{i}^{n}}{\\Delta t}=\\alpha\\frac{T_{i+1}^{n+1}-2T_{i}^{n+1}+T_{i-1}^{n+1}}{\\Delta x^2}.\n",
    "$$\n",
    "\n",
    "### BCs\n",
    "\n",
    "### Problem Set-up\n",
    "The graphite rod, same as the previous lesson."
   ]
  },
  {
   "cell_type": "code",
   "execution_count": 1,
   "metadata": {
    "collapsed": true
   },
   "outputs": [],
   "source": [
    "import numpy\n",
    "from matplotlib import pyplot\n",
    "%matplotlib inline"
   ]
  },
  {
   "cell_type": "code",
   "execution_count": 2,
   "metadata": {
    "collapsed": true
   },
   "outputs": [],
   "source": [
    "# set the font family and size to use for Matplotlib figures\n",
    "pyplot.rcParams['font.family'] = 'serif'\n",
    "pyplot.rcParams['font.size'] = 16"
   ]
  },
  {
   "cell_type": "code",
   "execution_count": 3,
   "metadata": {
    "collapsed": true
   },
   "outputs": [],
   "source": [
    "# set parameters\n",
    "L = 1.0  # length of the rod\n",
    "nx = 51  # number of locations on the rod\n",
    "dx = L / (nx - 1)  # distance between two consecutive locations\n",
    "alpha = 1.22e-3  #  thermal diffusivity of the rod\n",
    "q = 0.0  # temperature gradient on the right side of the rod\n",
    "\n",
    "# define the locations along the rod\n",
    "x = numpy.linspace(0.0, L, num=nx)\n",
    "\n",
    "# set the initial temperature along the rod\n",
    "T0 = numpy.zeros(nx)\n",
    "T0[0] = 100.0"
   ]
  },
  {
   "cell_type": "code",
   "execution_count": 4,
   "metadata": {
    "collapsed": true
   },
   "outputs": [],
   "source": [
    "from scipy import linalg"
   ]
  },
  {
   "cell_type": "code",
   "execution_count": 5,
   "metadata": {
    "collapsed": true
   },
   "outputs": [],
   "source": [
    "def lhs_operator(N, sigma):\n",
    "    \"\"\"\n",
    "    Computes and returns the implicit operator of the system for the \n",
    "    1D diffusion equation. We use backward Euler method, Dirichlet \n",
    "    condition on the left side of the domain and zero-gradient Neumann \n",
    "    condition on the right side.\n",
    "    \n",
    "    Parameters\n",
    "    ----------\n",
    "    N : integer\n",
    "        Number of interior points\n",
    "    sigma : float\n",
    "        Value of alpha * dt / dx**2\n",
    "    \n",
    "    Returns\n",
    "    -------\n",
    "    A : numpy.ndarray\n",
    "        The implicit operator as a 2D array of floats of size N by N\n",
    "    \"\"\"\n",
    "    \n",
    "    # setup the diagonal of the operator\n",
    "    D = numpy.diag((2.0 + 1.0 / sigma) * numpy.ones(N))\n",
    "    \n",
    "    # setup the Neumann condition for the last element\n",
    "    D[-1, -1] = 1.0 + 1.0 / sigma\n",
    "    \n",
    "    # setup the upper diagonal of the operator\n",
    "    U = numpy.diag(-1.0 * numpy.ones(N - 1), k=1)\n",
    "    \n",
    "    # setup the lower diagonal of the operator\n",
    "    L = numpy.diag(-1.0 * numpy.ones(N - 1), k=-1)\n",
    "    \n",
    "    # assemble the operator\n",
    "    A = D + U + L\n",
    "    \n",
    "    return A"
   ]
  },
  {
   "cell_type": "code",
   "execution_count": 6,
   "metadata": {
    "collapsed": true
   },
   "outputs": [],
   "source": [
    "def rhs_vector(T, sigma, qdx):\n",
    "    \"\"\"\n",
    "    Computes and returns the right-hand side of the system for the 1D\n",
    "    diffusion equation, using a Dirichlet condition on the left side \n",
    "    and a Neumann condition on the right side.\n",
    "    \n",
    "    Parameters\n",
    "    ----------\n",
    "    T : numpy.ndarray\n",
    "        The temperature distribution as a 1D array of floats\n",
    "    sigma : float\n",
    "        Value of alpha * dt / dx**2.\n",
    "    qdx : float\n",
    "        Value of the temperature flux at the right side\n",
    "    \n",
    "    Returns\n",
    "    -------\n",
    "    b : numpy.ndarray\n",
    "        The right-hand side of the system as a 1D array of floats\n",
    "    \"\"\"\n",
    "    \n",
    "    b = T[1:-1] / sigma\n",
    "    \n",
    "    # set Dirichlet condition\n",
    "    b[0] += T[0]\n",
    "    \n",
    "    # set Neumann condition\n",
    "    b[-1] += qdx\n",
    "    \n",
    "    return b"
   ]
  },
  {
   "cell_type": "code",
   "execution_count": 7,
   "metadata": {
    "collapsed": true
   },
   "outputs": [],
   "source": [
    "def btcs_implicit(T0, nt, dt, dx, alpha, q):\n",
    "    \"\"\"\n",
    "    Computes and returns the temperature along the rod\n",
    "    after a given number of time steps.\n",
    "    \n",
    "    The function uses Euler implicit in time,\n",
    "    central differencing in space, a Dirichlet condition\n",
    "    on the left side, and a Neumann condition on the\n",
    "    right side.\n",
    "    \n",
    "    Parameters\n",
    "    ----------\n",
    "    T0 : numpy.ndarray\n",
    "        The initial temperature distribution as a 1D array of floats.\n",
    "    nt : integer\n",
    "        Number of time steps to compute.\n",
    "    dt : float\n",
    "        Time-step size.\n",
    "    dx : float\n",
    "        Distance between two consecutive locations.\n",
    "    alpha : float\n",
    "        Thermal diffusivity of the rod.\n",
    "    q : float\n",
    "        Value of the temperature gradient on the right side.\n",
    "    \n",
    "    Returns\n",
    "    -------\n",
    "    T : numpy.ndarray\n",
    "        The temperature distribution as a 1D array of floats.\n",
    "    \"\"\"\n",
    "    \n",
    "    sigma = alpha * dt / dx**2\n",
    "    \n",
    "    # create the implicit operator of the system\n",
    "    A = lhs_operator(len(T0) - 2, sigma)\n",
    "    \n",
    "    # integrate in time\n",
    "    T = T0.copy()\n",
    "    for n in range(nt):\n",
    "        # generate the right-hand side of the system\n",
    "        b = rhs_vector(T, sigma, q * dx)\n",
    "        \n",
    "        # solve the system with scipy.linalg.solve\n",
    "        T[1:-1] = linalg.solve(A, b)\n",
    "        \n",
    "        # apply the Neumann boundary condition\n",
    "        T[-1] = T[-2] + q * dx\n",
    "    \n",
    "    return T"
   ]
  },
  {
   "cell_type": "code",
   "execution_count": 8,
   "metadata": {
    "collapsed": true
   },
   "outputs": [],
   "source": [
    "# set the time-step size based on CFL limit\n",
    "sigma = 0.5\n",
    "dt = sigma * dx**2 / alpha  # time-step size\n",
    "nt = 1000  # number of time steps to compute\n",
    "\n",
    "# cCompute the temperature along the rod\n",
    "T = btcs_implicit(T0, nt, dt, dx, alpha, q)"
   ]
  },
  {
   "cell_type": "code",
   "execution_count": 9,
   "metadata": {},
   "outputs": [
    {
     "data": {
      "image/png": "[encoded data removed]",
      "text/plain": [
       "<matplotlib.figure.Figure at 0x1b69ce4b320>"
      ]
     },
     "metadata": {},
     "output_type": "display_data"
    }
   ],
   "source": [
    "# plot the temperature along the rod.\n",
    "pyplot.figure(figsize=(6.0, 4.0))\n",
    "pyplot.xlabel('Distance [m]')\n",
    "pyplot.ylabel('Temperature [C]')\n",
    "pyplot.grid()\n",
    "pyplot.plot(x, T, color='C0', linestyle='-', linewidth=2)\n",
    "pyplot.xlim(0.0, L)\n",
    "pyplot.ylim(0.0, 100.0);"
   ]
  },
  {
   "cell_type": "markdown",
   "metadata": {},
   "source": [
    "This is similar results we got from the explicit FTCS for $\\alpha\\frac{\\Delta t}{\\Delta x^2} = \\frac{1}{2}$. If we try $\\alpha\\frac{\\Delta t}{\\Delta x^2} = 5$, it vioates the stability conditions of the explicit scheme."
   ]
  },
  {
   "cell_type": "code",
   "execution_count": 10,
   "metadata": {},
   "outputs": [
    {
     "data": {
      "image/png": "[encoded data removed]",
      "text/plain": [
       "<matplotlib.figure.Figure at 0x1b69cdc9a20>"
      ]
     },
     "metadata": {},
     "output_type": "display_data"
    }
   ],
   "source": [
    "# increase the CFL number\n",
    "sigma = 5.0\n",
    "dt = sigma * dx**2 / alpha  # time-step size\n",
    "nt = 100  # number of time steps to compute\n",
    "\n",
    "# compute the temperature along the rod\n",
    "T = btcs_implicit(T0, nt, dt, dx, alpha, q)\n",
    "\n",
    "# plot the temperature along the rod\n",
    "pyplot.figure(figsize=(6.0, 4.0))\n",
    "pyplot.xlabel('Distance [m]')\n",
    "pyplot.ylabel('Temperature [C]')\n",
    "pyplot.grid()\n",
    "pyplot.plot(x, T, color='C0', linestyle='-', linewidth=2)\n",
    "pyplot.xlim(0.0, L)\n",
    "pyplot.ylim(0.0, 100.0);"
   ]
  },
  {
   "cell_type": "markdown",
   "metadata": {},
   "source": [
    "It did not blow up. We were not able to use such a large time step with the explicit scheme."
   ]
  }
 ],
 "metadata": {
  "kernelspec": {
   "display_name": "Python 3",
   "language": "python",
   "name": "python3"
  },
  "language_info": {
   "codemirror_mode": {
    "name": "ipython",
    "version": 3
   },
   "file_extension": ".py",
   "mimetype": "text/x-python",
   "name": "python",
   "nbconvert_exporter": "python",
   "pygments_lexer": "ipython3",
   "version": "3.6.1"
  }
 },
 "nbformat": 4,
 "nbformat_minor": 2
}
