{
 "cells": [
  {
   "cell_type": "code",
   "execution_count": 1,
   "metadata": {},
   "outputs": [],
   "source": [
    "import numpy\n",
    "from matplotlib import pyplot\n",
    "%matplotlib inline"
   ]
  },
  {
   "cell_type": "code",
   "execution_count": 2,
   "metadata": {},
   "outputs": [],
   "source": [
    "# set the font family and size to use for Matplotlib figures\n",
    "pyplot.rcParams['font.family'] = 'serif'\n",
    "pyplot.rcParams['font.size'] = 16"
   ]
  },
  {
   "cell_type": "code",
   "execution_count": 3,
   "metadata": {},
   "outputs": [],
   "source": [
    "# set params\n",
    "Lx = 0.01  # length of the plate in the x direction\n",
    "Ly = 0.01  # height of the plate in the y direction\n",
    "nx = 21  # number of points in the x direction\n",
    "ny = 21  # number of points in the y direction\n",
    "dx = Lx / (nx - 1)  # grid spacing in the x direction\n",
    "dy = Ly / (ny - 1)  # grid spacing in the y direction\n",
    "alpha = 1e-4  # thermal diffusivity of the plate\n",
    "\n",
    "# define the grid positions\n",
    "x = numpy.linspace(0.0, Lx, num=nx)\n",
    "y = numpy.linspace(0.0, Ly, num=ny)\n",
    "\n",
    "# initial conditions\n",
    "Tb = 100.0  # temperature at the left and bottom boundaries\n",
    "T0 = 20.0 * numpy.ones((ny, nx))\n",
    "T0[0, :] = Tb\n",
    "T0[:, 0] = Tb"
   ]
  },
  {
   "cell_type": "code",
   "execution_count": 4,
   "metadata": {},
   "outputs": [],
   "source": [
    "def ftcs(T0, nt, dt, dx, dy, alpha):\n",
    "    \"\"\"\n",
    "    Computes and returns the temperature distribution after a given number of time \n",
    "    steps. Explicit integration using forward differencing in time and central \n",
    "    differencing in space, with Neumann conditions (zero-gradient) on top and right\n",
    "    boundaries and Dirichlet conditions on bottom and left boundaries.\n",
    "    \n",
    "    Parameters\n",
    "    ----------\n",
    "    T0 : numpy.ndarray\n",
    "        The initial temperature distribution as a 2D array of floats\n",
    "    nt : integer\n",
    "        Maximum number of time steps to compute\n",
    "    dt : float\n",
    "        Time-step size.\n",
    "    dx : float\n",
    "        Grid spacing in the x direction\n",
    "    dy : float\n",
    "        Grid spacing in the y direction\n",
    "    alpha : float\n",
    "        Thermal diffusivity\n",
    "    \n",
    "    Returns\n",
    "    -------\n",
    "    T : numpy.ndarray\n",
    "        The temperature distribution as a 2D array of floats\n",
    "    \"\"\"\n",
    "    \n",
    "    T = T0.copy()\n",
    "    \n",
    "    sigma_x = alpha * dt / dx**2\n",
    "    sigma_y = alpha * dt / dy**2\n",
    "    \n",
    "    ny, nx = T.shape\n",
    "    I, J = int(nx / 2), int(ny / 2)  # indices of the center\n",
    "    \n",
    "    for n in range(nt):\n",
    "        for j in range(1, ny - 1):\n",
    "            for i in range(1, nx - 1):\n",
    "                T[j, i] = (T[j, i]\n",
    "                             + sigma_x * (T[j, i - 1] - 2.0 * T[j, i] + T[j, i + 1])\n",
    "                             + sigma_y * (T[j - 1, i] - 2.0 * T[j, i] + T[j + 1, i]))\n",
    "        \n",
    "        # apply Neumann conditions (zero-gradient)\n",
    "        T[0, :] = 100.0  # bottom\n",
    "        T[:, 0] = 100.0  # left\n",
    "        T[-1, :] = T[-2, :]  # top\n",
    "        T[:, -1] = T[:, -2]  # right\n",
    "        \n",
    "        \n",
    "        # check if the center of the domain has reached T = 70C\n",
    "        if T[J, I] >= 70.0:\n",
    "            break\n",
    "    print('time step: {} - center at T={:.1f} at t={:.2f} s'.format(n + 1, T[J, I], \n",
    "                                                                   (n + 1) * dt))\n",
    "    \n",
    "    return T"
   ]
  },
  {
   "cell_type": "markdown",
   "metadata": {},
   "source": [
    "CFL limits: \n",
    "$$\n",
    "\\frac{\\alpha \\Delta t}{\\Delta x^2}=\\frac{\\alpha \\Delta t}{\\Delta y^2}=\\frac{1}{4}\n",
    "$$"
   ]
  },
  {
   "cell_type": "code",
   "execution_count": 5,
   "metadata": {},
   "outputs": [
    {
     "name": "stdout",
     "output_type": "stream",
     "text": [
      "time step: 128 - center at T=70.1 at t=0.08 s\n"
     ]
    }
   ],
   "source": [
    "# set time step size based on CFL limits\n",
    "sigma = 0.5\n",
    "dt = sigma * min(dx, dy)**2 / alpha  # time-step size\n",
    "dt = sigma / (1 / dx**2 + 1 / dy**2) / alpha  # time-step size\n",
    "nt = 500  # number of time steps to compute\n",
    "\n",
    "# compute the temp along the rod\n",
    "T = ftcs(T0, nt, dt, dx, dy, alpha)"
   ]
  },
  {
   "cell_type": "code",
   "execution_count": 6,
   "metadata": {},
   "outputs": [
    {
     "data": {
      "image/png": "[encoded data removed]",
      "text/plain": [
       "<Figure size 576x360 with 2 Axes>"
      ]
     },
     "metadata": {},
     "output_type": "display_data"
    }
   ],
   "source": [
    "# plot the filled contour of the temp\n",
    "pyplot.figure(figsize=(8.0, 5.0))\n",
    "pyplot.xlabel('x [m]')\n",
    "pyplot.ylabel('y [m]')\n",
    "levels = numpy.linspace(20.0, 100.0, num=51)\n",
    "contf = pyplot.contourf(x, y, T, levels=levels)\n",
    "cbar = pyplot.colorbar(contf)\n",
    "cbar.set_label('Temperature [C]')\n",
    "pyplot.axis('scaled', adjustable='box');"
   ]
  }
 ],
 "metadata": {
  "kernelspec": {
   "display_name": "Python 3",
   "language": "python",
   "name": "python3"
  },
  "language_info": {
   "codemirror_mode": {
    "name": "ipython",
    "version": 3
   },
   "file_extension": ".py",
   "mimetype": "text/x-python",
   "name": "python",
   "nbconvert_exporter": "python",
   "pygments_lexer": "ipython3",
   "version": "3.6.2"
  }
 },
 "nbformat": 4,
 "nbformat_minor": 2
}
