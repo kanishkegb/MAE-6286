{
 "cells": [
  {
   "cell_type": "markdown",
   "metadata": {},
   "source": [
    "## Parabolic PDEs\n",
    "\n",
    "The simplest parabolic PDE is the 1D diffusion equation. Namely,\n",
    "$$\n",
    "\\frac{\\partial u}{\\partial t} = \\alpha \\frac{\\partial^2 u}{\\partial x^2}\n",
    "$$\n",
    "\n",
    "### Heat Conduction\n",
    "Heat conduction is a diffusive process.\n",
    "$$\n",
    "\\frac{\\partial T}{\\partial t} = \\alpha \\frac{\\partial^2 T}{\\partial x^2}\n",
    "$$\n",
    "where $\\alpha$ is the thermal diffusity, $T$ is the temperature.\n",
    "\n",
    "Discretizing this with FTCS is subject to the following stability constraint:\n",
    "$$\n",
    "\\alpha \\frac{\\Delta t}{(\\Delta x)^2} \\leq \\frac{1}{2}.\n",
    "$$\n",
    "\n",
    "### Probelm Set-up\n",
    "Say we have a graphite rod, with thermal diffusivity of $\\alpha=1.22×10−3\\,m^2/s$, length $L=1\\,m$, and temperature $T=0\\,^\\circ C$ everywhere. At time $t=0$, we raise the temperature on the left-side end, $x=0$, to $T=100\\,^\\circ C$, and hold it there. \n",
    "\n",
    "How will the temperature evolve in the rod?"
   ]
  },
  {
   "cell_type": "code",
   "execution_count": 1,
   "metadata": {
    "collapsed": true
   },
   "outputs": [],
   "source": [
    "import numpy\n",
    "from matplotlib import pyplot\n",
    "%matplotlib inline"
   ]
  },
  {
   "cell_type": "code",
   "execution_count": 2,
   "metadata": {
    "collapsed": true
   },
   "outputs": [],
   "source": [
    "# set the font family and size to use for Matplotlib figures\n",
    "pyplot.rcParams['font.family'] = 'serif'\n",
    "pyplot.rcParams['font.size'] = 16"
   ]
  },
  {
   "cell_type": "code",
   "execution_count": 3,
   "metadata": {
    "collapsed": true
   },
   "outputs": [],
   "source": [
    "# set parameters\n",
    "L = 1.0  # length of the rod\n",
    "nx = 51  # number of locations on the rod\n",
    "dx = L / (nx - 1)  # distance between two consecutive locations\n",
    "alpha = 1.22e-3  #  thermal diffusivity of the rod\n",
    "\n",
    "# define the locations along the rod\n",
    "x = numpy.linspace(0.0, L, num=nx)\n",
    "\n",
    "# set the initial temperature along the rod\n",
    "T0 = numpy.zeros(nx)\n",
    "T0[0] = 100.0"
   ]
  },
  {
   "cell_type": "markdown",
   "metadata": {},
   "source": [
    "FTCS discretization\n",
    "\n",
    "$$\n",
    "T_{i}^{n+1}=T_{i}^{n}+\\frac{\\alpha\\Delta t}{\\Delta x^2}(T_{i+1}^{n}-2T_{i}^{n}+T_{i-1}^{n})\n",
    "$$"
   ]
  },
  {
   "cell_type": "code",
   "execution_count": 4,
   "metadata": {
    "collapsed": true
   },
   "outputs": [],
   "source": [
    "def ftcs(T0, nt, dt, dx, alpha):\n",
    "    \"\"\"\n",
    "    Computes and returns the temperature along the rod after a \n",
    "    provided number of time steps, given the initial temperature \n",
    "    and thermal diffusivity.\n",
    "    The diffusion equation is integrated using forward  differencing \n",
    "    in time and central differencing in space.\n",
    "    \n",
    "    Parameters\n",
    "    ----------\n",
    "    T0 : numpy.ndarray\n",
    "        The initial temperature along the rod as a 1D array of floats\n",
    "    nt : integer\n",
    "        The number of time steps to compute\n",
    "    dt : float\n",
    "        The time-step size to integrate\n",
    "    dx : float\n",
    "        The distance between two consecutive locations\n",
    "    alpha : float\n",
    "        The thermal diffusivity of the rod\n",
    "    \n",
    "    Returns\n",
    "    -------\n",
    "    T : numpy.ndarray\n",
    "        The temperature along the rod as a 1D array of floats\n",
    "    \"\"\"\n",
    "    \n",
    "    T = T0.copy()\n",
    "    sigma = alpha * dt / dx**2\n",
    "    for n in range(nt):\n",
    "        T[1:-1] = (T[1:-1] +\n",
    "                   sigma * (T[2:] - 2.0 * T[1:-1] + T[:-2]))\n",
    "    return T"
   ]
  },
  {
   "cell_type": "code",
   "execution_count": 5,
   "metadata": {
    "collapsed": true
   },
   "outputs": [],
   "source": [
    "# set the time-step size based on CFL limit\n",
    "nt = 100  # number of time steps to compute\n",
    "sigma = 0.5\n",
    "dt = sigma * dx**2 / alpha  # time-step size\n",
    "\n",
    "# compute the temperature along the rod\n",
    "T = ftcs(T0, nt, dt, dx, alpha)"
   ]
  },
  {
   "cell_type": "code",
   "execution_count": 6,
   "metadata": {},
   "outputs": [
    {
     "data": {
      "image/png": "[encoded data removed]",
      "text/plain": [
       "<matplotlib.figure.Figure at 0x1dec312aa90>"
      ]
     },
     "metadata": {},
     "output_type": "display_data"
    }
   ],
   "source": [
    "# plot the temperature along the rod\n",
    "pyplot.figure(figsize=(6.0, 4.0))\n",
    "pyplot.xlabel('Distance [m]')\n",
    "pyplot.ylabel('Temperature [C]')\n",
    "pyplot.grid()\n",
    "pyplot.plot(x, T, color='C0', linestyle='-', linewidth=2)\n",
    "pyplot.xlim(0.0, L)\n",
    "pyplot.ylim(0.0, 100.0);"
   ]
  },
  {
   "cell_type": "markdown",
   "metadata": {},
   "source": [
    "### Boundary Conditions\n",
    "#### Dirichlet BC\n",
    "Dirichlet BC is where a border is held to a specific value of the solution variable. We imposed a Dirichlet BC on the left side, but nothing on the right side. The solution time is not long enough for this to reach to the right boundary.\n",
    "\n",
    "Let's see what happens given enough time."
   ]
  },
  {
   "cell_type": "code",
   "execution_count": 7,
   "metadata": {
    "collapsed": true
   },
   "outputs": [],
   "source": [
    "# increase the number of time steps\n",
    "nt = 1000\n",
    "\n",
    "# compute the temperature along the rod\n",
    "T = ftcs(T0, nt, dt, dx, alpha)"
   ]
  },
  {
   "cell_type": "code",
   "execution_count": 8,
   "metadata": {},
   "outputs": [
    {
     "data": {
      "image/png": "[encoded data removed]",
      "text/plain": [
       "<matplotlib.figure.Figure at 0x1dec319fc18>"
      ]
     },
     "metadata": {},
     "output_type": "display_data"
    }
   ],
   "source": [
    "# plot the temperature along the rod\n",
    "pyplot.figure(figsize=(6.0, 4.0))\n",
    "pyplot.xlabel('Distance [m]')\n",
    "pyplot.ylabel('Temperature [C]')\n",
    "pyplot.grid()\n",
    "pyplot.plot(x, T, color='C0', linestyle='-', linewidth=2)\n",
    "pyplot.xlim(0.0, L)\n",
    "pyplot.ylim(0.0, 100.0);"
   ]
  },
  {
   "cell_type": "markdown",
   "metadata": {},
   "source": [
    "FTCS never updates T[-1], which indirectly makes a Dirichlet BC at the right boundary. Because both end temperatures are \"pinned\" to set values, the temperature distribution within the rod will relax (after enough time) to a linear temperature gradient across the length of the rod.\n",
    "\n",
    "Once the solution is relaxed, no number of extra time steps will make it change. This is an example of a steady-state solution and we'll learn more about those in Module 5 of the course."
   ]
  },
  {
   "cell_type": "markdown",
   "metadata": {},
   "source": [
    "#### Neumann BC\n",
    "Rather than specifying the value of the solution at the border, they specify the value of the derivative of the solution at the border.\n",
    "\n",
    "For this example:\n",
    "$$\n",
    "\\left. \\frac{\\partial T}{\\partial x} \\right|_{x = 1} = q(t).\n",
    "$$\n",
    "\n",
    "We enforce that using finite-difference discretization of the derivative at the boundary. At time step $n$, for $N$ points, that would be,\n",
    "$$\n",
    "\\left. \\frac{\\partial T}{\\partial x} \\right|_{x=1} \\approx \\frac{T^n_N - T^n_{N-1}}{\\Delta x} = q(t)\n",
    "$$\n",
    "\n",
    "For example, if the rod at $x=1$ has some insulating material, no heat is going to be able to get out through that end, and the Neumann boundary condition is:\n",
    "$$\n",
    "\\left. \\frac{\\partial T}{\\partial x} \\right|_{x=1} = 0.\n",
    "$$\n",
    "\n",
    "To enforce this at the right hand side,\n",
    "$$\n",
    "T[-1]=T[-2].\n",
    "$$"
   ]
  },
  {
   "cell_type": "code",
   "execution_count": 9,
   "metadata": {
    "collapsed": true
   },
   "outputs": [],
   "source": [
    "def ftcs_mixed_bcs(T0, nt, dt, dx, alpha):\n",
    "    \"\"\"\n",
    "    Computes and returns the temperature along the rod after a provided \n",
    "    number of time steps, given the initial temperature and the thermal \n",
    "    diffusivity. The diffusion equation is integrated using forward \n",
    "    differencing in time and central differencing in space. The function \n",
    "    uses a Dirichlet condition on the left side of the rod and a Neumann \n",
    "    condition (zero-gradient) on the right side.\n",
    "    \n",
    "    Parameters\n",
    "    ----------\n",
    "    T0 : numpy.ndarray\n",
    "        The initial temperature along the rod as a 1D array of floats\n",
    "    nt : integer\n",
    "        The number of time steps to compute\n",
    "    dt : float\n",
    "        The time-step size to integrate\n",
    "    dx : float\n",
    "        The distance between two consecutive locations\n",
    "    alpha : float\n",
    "        The thermal diffusivity of the rod\n",
    "    \n",
    "    Returns\n",
    "    -------\n",
    "    T : numpy.ndarray\n",
    "        The temperature along the rod as a 1D array of floats.\n",
    "    \"\"\"\n",
    "    \n",
    "    T = T0.copy()\n",
    "    sigma = alpha * dt / dx**2\n",
    "    for n in range(nt):\n",
    "        T[1:-1] = (T[1:-1] +\n",
    "                   sigma * (T[2:] - 2.0 * T[1:-1] + T[:-2]))\n",
    "        \n",
    "        # apply Neumann condition at the last location\n",
    "        T[-1] = T[-2]\n",
    "        \n",
    "    return T"
   ]
  },
  {
   "cell_type": "code",
   "execution_count": 10,
   "metadata": {
    "collapsed": true
   },
   "outputs": [],
   "source": [
    "nt = 1000  # number of time steps to compute\n",
    "\n",
    "# compute the temperature along the rod\n",
    "T = ftcs_mixed_bcs(T0, nt, dt, dx, alpha)"
   ]
  },
  {
   "cell_type": "code",
   "execution_count": 11,
   "metadata": {
    "scrolled": true
   },
   "outputs": [
    {
     "data": {
      "image/png": "[encoded data removed]",
      "text/plain": [
       "<matplotlib.figure.Figure at 0x1dec04f6e10>"
      ]
     },
     "metadata": {},
     "output_type": "display_data"
    }
   ],
   "source": [
    "# plot the temperature along the rod\n",
    "pyplot.figure(figsize=(6.0, 4.0))\n",
    "pyplot.xlabel('Distance [m]')\n",
    "pyplot.ylabel('Temperature [C]')\n",
    "pyplot.grid()\n",
    "pyplot.plot(x, T, color='C0', linestyle='-', linewidth=2)\n",
    "pyplot.xlim(0.0, L)\n",
    "pyplot.ylim(0.0, 100.0);"
   ]
  },
  {
   "cell_type": "markdown",
   "metadata": {},
   "source": [
    "### Explicit Schemes and BCs\n",
    "The numerical schemes we've learned so far are called explicit, because we compute the updated solution at $t^{n+1}$ using only known information at time $t^n$.\n",
    "\n",
    "### Explicit Schemes and Time Step\n",
    "Replace $\\sigma=\\alpha \\frac{\\Delta t}{(\\Delta x)^2}$ and re-arrange to get\n",
    "$$\n",
    "T_{i}^{n+1} = \\sigma T_{i-1}^{n}+(1- 2 \\sigma) T_{i}^{n} + \\sigma T_{i+1}^{n}\n",
    "$$"
   ]
  }
 ],
 "metadata": {
  "kernelspec": {
   "display_name": "Python 3",
   "language": "python",
   "name": "python3"
  },
  "language_info": {
   "codemirror_mode": {
    "name": "ipython",
    "version": 3
   },
   "file_extension": ".py",
   "mimetype": "text/x-python",
   "name": "python",
   "nbconvert_exporter": "python",
   "pygments_lexer": "ipython3",
   "version": "3.6.1"
  }
 },
 "nbformat": 4,
 "nbformat_minor": 2
}
