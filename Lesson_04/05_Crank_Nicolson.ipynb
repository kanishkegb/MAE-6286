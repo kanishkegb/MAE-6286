{
 "cells": [
  {
   "cell_type": "code",
   "execution_count": 1,
   "metadata": {},
   "outputs": [],
   "source": [
    "import numpy\n",
    "from scipy import linalg\n",
    "\n",
    "from matplotlib import pyplot\n",
    "%matplotlib inline"
   ]
  },
  {
   "cell_type": "code",
   "execution_count": 2,
   "metadata": {},
   "outputs": [],
   "source": [
    "# parameters\n",
    "L = 1.0  # length of the rod\n",
    "nx = 21  # number of points on the rod\n",
    "dx = L / (nx - 1)  # grid spacing\n",
    "x = numpy.linspace(0.0, L, num=nx)  # grid points\n",
    "\n",
    "alpha = 1.22e-3  # thermal diffusivity of the rod\n",
    "\n",
    "# set the initial temperature distribution.\n",
    "T0 = numpy.zeros(nx)\n",
    "T0[0] = 100.0"
   ]
  },
  {
   "cell_type": "code",
   "execution_count": 25,
   "metadata": {},
   "outputs": [],
   "source": [
    "def solve_1d(T0, nt, dt, dx, alpha, cI, cE, bc):\n",
    "    T = T0.copy()\n",
    "    N = len(T0) - 2\n",
    "    A, b_bc = lhs_operator(N, dt, dx, alpha, cI, bc)\n",
    "    \n",
    "    for n in range(nt):\n",
    "        b = rhs_operator(T, dt, dx, alpha, cE)\n",
    "        T[1:-1] = linalg.solve(A, b - b_bc)\n",
    "        \n",
    "        # Neumann BCs\n",
    "        update_boundaries(T, dx, bc)\n",
    "    \n",
    "    return T"
   ]
  },
  {
   "cell_type": "code",
   "execution_count": 19,
   "metadata": {},
   "outputs": [],
   "source": [
    "def lhs_operator(N, dt, dx, alpha, cI, bc):\n",
    "    I = numpy.identity(N)\n",
    "    L, b_bc = laplacian_1d(N, dx, bc)\n",
    "    A = I / dt - cI * alpha * L\n",
    "    return A, b_bc"
   ]
  },
  {
   "cell_type": "code",
   "execution_count": 5,
   "metadata": {},
   "outputs": [],
   "source": [
    "bc_left = {'type':'Dirichlet', 'value':100.0}\n",
    "bc_right = {'type':'Neumann', 'value':0.0}\n",
    "bc = {'left':bc_left, 'right':bc_right}"
   ]
  },
  {
   "cell_type": "code",
   "execution_count": 34,
   "metadata": {},
   "outputs": [],
   "source": [
    "def laplacian_1d(N, dx, bc):\n",
    "    D = numpy.diag(-2.0 / dx ** 2 * numpy.ones(N))\n",
    "    L = numpy.diag(1.0 * dx ** 2 * numpy.ones(N - 1), k=-1)\n",
    "    U = numpy.diag(1.0 / dx ** 2 * numpy.ones(N - 1), k=+1)\n",
    "    A = D + U + L\n",
    "    \n",
    "    b_bc = numpy.zeros(N)\n",
    "    \n",
    "    # left boundary\n",
    "    if bc['left']['type'] == 'Dirichlet':\n",
    "        b_bc[0] = bc['left']['value'] / dx ** 2\n",
    "    elif bc['left']['type'] == 'Neumann':\n",
    "        A[0, 0] = -1.0 / dx ** 2\n",
    "        b_bc[0] = bc['left']['value'] / dx\n",
    "        \n",
    "    # right boundary\n",
    "    if bc['right']['type'] == 'Dirichlet':\n",
    "        b_bc[-1] = bc['right']['value'] / dx ** 2\n",
    "    elif bc['right']['type'] == 'Neumann':\n",
    "        A[-1, -1] = -1.0 / dx ** 2\n",
    "        b_bc[-1] = bc['right']['value'] / dx\n",
    "    return A, b_bc"
   ]
  },
  {
   "cell_type": "code",
   "execution_count": 30,
   "metadata": {},
   "outputs": [],
   "source": [
    "def rhs_operator(T, dt, dx, alpha, cE):\n",
    "    b = T[1:-1] / dt + cE * alpha * (T[:-2] - 2 * T[1:-1] + T[2:]) / dx ** 2\n",
    "    return b"
   ]
  },
  {
   "cell_type": "code",
   "execution_count": 8,
   "metadata": {},
   "outputs": [],
   "source": [
    "def update_boundaries(T, dx, bc):\n",
    "    T[0] = get_boundary_value(T[1], dx, bc['left'])\n",
    "    T[1] = get_boundary_value(T[-2], dx, bc['right'])\n",
    "    \n",
    "    return"
   ]
  },
  {
   "cell_type": "code",
   "execution_count": 9,
   "metadata": {},
   "outputs": [],
   "source": [
    "def get_boundary_value(T_neighbor, dx, bc):\n",
    "    \n",
    "    if bc['type'] == 'Dirichlet':\n",
    "        return bc['value']\n",
    "    elif bc['type'] == 'Neumann':\n",
    "        return T_neighbor + bc['value'] * dx\n",
    "    else:\n",
    "        raise ValueError('Only Dirichlet and Neumann conditions are supported')\n",
    "\n",
    "    return"
   ]
  },
  {
   "cell_type": "code",
   "execution_count": 39,
   "metadata": {},
   "outputs": [],
   "source": [
    "sigma = 0.5\n",
    "dt = sigma * dx ** 2 / alpha\n",
    "nt = 10\n",
    "\n",
    "T = solve_1d(T0, nt, dt, dx, alpha, 0.5, 0.5, bc)"
   ]
  },
  {
   "cell_type": "code",
   "execution_count": 38,
   "metadata": {},
   "outputs": [
    {
     "data": {
      "image/png": "[encoded data removed]",
      "text/plain": [
       "<Figure size 432x288 with 1 Axes>"
      ]
     },
     "metadata": {},
     "output_type": "display_data"
    }
   ],
   "source": [
    "pyplot.figure(figsize=(6.0, 4.0))\n",
    "pyplot.xlabel('Distance [m]')\n",
    "pyplot.ylabel('Temperature [C]')\n",
    "pyplot.grid()\n",
    "pyplot.plot(x, T, color='C0', linestyle='-', linewidth=2)\n",
    "pyplot.xlim(0.0, L)\n",
    "pyplot.ylim(0.0, 100.0);"
   ]
  }
 ],
 "metadata": {
  "kernelspec": {
   "display_name": "Python 3",
   "language": "python",
   "name": "python3"
  },
  "language_info": {
   "codemirror_mode": {
    "name": "ipython",
    "version": 3
   },
   "file_extension": ".py",
   "mimetype": "text/x-python",
   "name": "python",
   "nbconvert_exporter": "python",
   "pygments_lexer": "ipython3",
   "version": "3.6.2"
  }
 },
 "nbformat": 4,
 "nbformat_minor": 2
}
