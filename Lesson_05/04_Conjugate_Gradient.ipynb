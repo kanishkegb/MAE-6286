{
 "cells": [
  {
   "cell_type": "markdown",
   "metadata": {},
   "source": [
    "$$\n",
    "\\begin{equation}\n",
    "\\nabla^2 p = -2\\left(\\frac{\\pi}{2}\\right)^2\\sin\\left( \\frac{\\pi x}{L_x} \\right) \\cos\\left(\\frac{\\pi y}{L_y}\\right)\n",
    "\\end{equation}\n",
    "$$\n",
    "\n",
    "in the domain\n",
    "$$\n",
    "\\left\\lbrace \\begin{align*}\n",
    "0 &\\leq x\\leq 1  \\\\\n",
    "-0.5 &\\leq y \\leq 0.5 \n",
    "\\end{align*} \\right.\n",
    "$$\n",
    "where Lx=Ly=1 and with boundary conditions\n",
    "$$\n",
    "p=0 \\text{ at } \\left\\lbrace \n",
    "\\begin{align*}\n",
    "x&=0\\\\\n",
    "y&=0\\\\\n",
    "y&=-0.5\\\\\n",
    "y&=0.5\n",
    "\\end{align*} \\right.\n",
    "$$"
   ]
  },
  {
   "cell_type": "markdown",
   "metadata": {},
   "source": [
    "Discretizing:\n",
    "$$\n",
    "\\frac{p_{i+1,j}^{k}-2p_{i,j}^{k}+p_{i-1,j}^{k}}{\\Delta x^2}+\\frac{p_{i,j+1}^{k}-2 p_{i,j}^{k}+p_{i,j-1}^{k}}{\\Delta y^2}=b_{i,j}^{k}\n",
    "$$"
   ]
  },
  {
   "cell_type": "code",
   "execution_count": 1,
   "metadata": {},
   "outputs": [],
   "source": [
    "import numpy\n",
    "from helper import l2_norm, poisson_2d_jacobi, poisson_solution"
   ]
  },
  {
   "cell_type": "code",
   "execution_count": 2,
   "metadata": {},
   "outputs": [],
   "source": [
    "# parameters\n",
    "nx = 101\n",
    "ny = 101\n",
    "xmin, xmax = 0.0, 1.0\n",
    "ymin, ymax = -0.5, 0.5\n",
    "Lx = xmax - xmin\n",
    "Ly = ymax - ymin\n",
    "dx = Lx / (nx - 1)\n",
    "dy = Ly / (ny - 1)\n",
    "\n",
    "# grid\n",
    "x = numpy.linspace(xmin, xmax, num=nx)\n",
    "y = numpy.linspace(ymin, ymax, num=ny)\n",
    "X, Y = numpy.meshgrid(x, y)\n",
    "\n",
    "# source term\n",
    "b = (-2.0 * (numpy.pi / Lx) * (numpy.pi / Ly) *\n",
    "     numpy.sin(numpy.pi * X / Lx) *\n",
    "     numpy.cos(numpy.pi * Y / Ly))\n",
    "\n",
    "# ICs\n",
    "p0 = numpy.zeros((ny, nx))\n",
    "\n",
    "# analytical solutions\n",
    "p_exact = poisson_solution(x, y, Lx, Ly)"
   ]
  },
  {
   "cell_type": "markdown",
   "metadata": {},
   "source": [
    "# Deepest Descent\n",
    "The solution process:\n",
    "* Calculate the residual, $r^k$, which also serves as the direction vector, $d^k$\n",
    "* Calculate the step size $\\alpha$\n",
    "* Update $p^{k+1}=p^k+\\alpha d^k$\n",
    "\n",
    "## Residual Definition\n",
    "$$\n",
    "\\begin{equation}\n",
    "{\\bf r}^k={\\bf b}-A{\\bf p}^k\n",
    "\\end{equation}\n",
    "$$"
   ]
  },
  {
   "cell_type": "code",
   "execution_count": 3,
   "metadata": {},
   "outputs": [],
   "source": [
    "def poisson_2d_steepest_descent(p0, b, dx, dy, maxiter=20000, rtol=1e-6):\n",
    "    \"\"\"\n",
    "    Solves the 2D Poisson equation on a uniform grid, with the same grid \n",
    "    spacing in both directions, for a given forcing term using the method \n",
    "    of steepest descent.\n",
    "    \n",
    "    The function assumes Dirichlet boundary conditions with value zero.\n",
    "    The exit criterion of the solver is based on the relative L2-norm of \n",
    "    the solution difference between two consecutive iterations.\n",
    "\n",
    "    Parameters\n",
    "    ----------\n",
    "    p0 : numpy.ndarray\n",
    "        The initial solution as a 2D array of floats\n",
    "    b : numpy.ndarray\n",
    "        The forcing term as a 2D array of floats\n",
    "    dx : float\n",
    "        Grid spacing in the x direction\n",
    "    dy : float\n",
    "        Grid spacing in the y direction\n",
    "    maxiter : integer, optional\n",
    "        Maximum number of iterations to perform, default: 20000\n",
    "    rtol : float, optional\n",
    "        Relative tolerance for convergence, default: 1e-6\n",
    "\n",
    "    Returns\n",
    "    -------\n",
    "    p : numpy.ndarray\n",
    "        The solution after relaxation as a 2D array of floats\n",
    "    ite : integer\n",
    "        The number of iterations performed\n",
    "    conv : list\n",
    "        The convergence history as a list of floats\n",
    "    \"\"\"\n",
    "    \n",
    "    def A(p):\n",
    "        # apply the Laplacian operator to p\n",
    "        return (-4.0 * p[1:-1, 1:-1] +\n",
    "                p[1:-1, :-2] + p[1:-1, 2:] +\n",
    "                p[:-2, 1:-1] + p[2:, 1:-1]) / dx**2\n",
    "\n",
    "    p = p0.copy()\n",
    "    r = numpy.zeros_like(p)\n",
    "    Ar = numpy.zeros_like(p)\n",
    "    conv = []\n",
    "    diff = rtol + 1\n",
    "    ite = 0\n",
    "    \n",
    "    while diff > rtol and ite < maxiter:\n",
    "        pk = p.copy()\n",
    "        \n",
    "        # compute the residual\n",
    "        r[1:-1, 1:-1] = b[1:-1, 1:-1] - A(p)\n",
    "        \n",
    "        # compute the Laplacian of the residual\n",
    "        Ar[1:-1, 1:-1] = A(r)\n",
    "        \n",
    "        # compute the step size\n",
    "        alpha = numpy.sum(r * r) / numpy.sum(r * Ar)\n",
    "        \n",
    "        # update the solution\n",
    "        p = pk + alpha * r\n",
    "        \n",
    "        # relative L2-norm of the difference\n",
    "        diff = l2_norm(p, pk)\n",
    "        conv.append(diff)\n",
    "        \n",
    "        ite += 1\n",
    "        \n",
    "    return p, ite, conv"
   ]
  },
  {
   "cell_type": "code",
   "execution_count": 4,
   "metadata": {},
   "outputs": [
    {
     "name": "stdout",
     "output_type": "stream",
     "text": [
      "Method of steepest descent: 2 iterations to reach a relative difference of 1.3307695446303778e-16\n"
     ]
    }
   ],
   "source": [
    "p, ites, conv_sd = poisson_2d_steepest_descent(p0, b, dx, dy,\n",
    "                                               maxiter=20000, rtol=1e-10)\n",
    "print('Method of steepest descent: {} iterations '.format(ites) +\n",
    "      'to reach a relative difference of {}'.format(conv_sd[-1]))"
   ]
  },
  {
   "cell_type": "code",
   "execution_count": 5,
   "metadata": {
    "scrolled": true
   },
   "outputs": [
    {
     "data": {
      "text/plain": [
       "8.225076220929745e-05"
      ]
     },
     "execution_count": 5,
     "metadata": {},
     "output_type": "execute_result"
    }
   ],
   "source": [
    "l2_norm(p, p_exact)"
   ]
  },
  {
   "cell_type": "markdown",
   "metadata": {},
   "source": [
    "# Conjugate Gradients\n",
    "\n",
    "Steps:\n",
    "* Calculate $\\alpha = \\frac{{\\bf r}^k \\cdot {\\bf r}^k}{A{\\bf d}^k \\cdot {\\bf d}^k}$\n",
    "* Update $p^{k+1}$\n",
    "* Calculate ${\\bf r}^{k+1} = {\\bf r}^k - \\alpha A {\\bf d}^k$\n",
    "* Calculate $\\beta = \\frac{{\\bf r}^{k+1} \\cdot {\\bf r}^{k+1}}{{\\bf r}^k \\cdot {\\bf r}^k}$\n",
    "* Calculate ${\\bf d}^{k+1}={\\bf r}^{k+1}+\\beta{\\bf d}^{k}$\n",
    "* Repeat"
   ]
  },
  {
   "cell_type": "code",
   "execution_count": 6,
   "metadata": {},
   "outputs": [],
   "source": [
    "def poisson_2d_conjugate_gradient(p0, b, dx, dy, maxiter=20000, rtol=1e-6):\n",
    "    \"\"\"\n",
    "    Solves the 2D Poisson equation on a uniform grid, with the same grid \n",
    "    spacing in both directions, for a given forcing term using the method \n",
    "    of conjugate gradients.\n",
    "    \n",
    "    The function assumes Dirichlet boundary conditions with value zero.\n",
    "    The exit criterion of the solver is based on the relative L2-norm of \n",
    "    the solution difference between two consecutive iterations.\n",
    "\n",
    "    Parameters\n",
    "    ----------\n",
    "    p0 : numpy.ndarray\n",
    "        The initial solution as a 2D array of floats\n",
    "    b : numpy.ndarray\n",
    "        The forcing term as a 2D array of floats\n",
    "    dx : float\n",
    "        Grid spacing in the x direction\n",
    "    dy : float\n",
    "        Grid spacing in the y direction\n",
    "    maxiter : integer, optional\n",
    "        Maximum number of iterations to perform, default: 20000\n",
    "    rtol : float, optional\n",
    "        Relative tolerance for convergence, default: 1e-6\n",
    "\n",
    "    Returns\n",
    "    -------\n",
    "    p : numpy.ndarray\n",
    "        The solution after relaxation as a 2D array of floats\n",
    "    ite : integer\n",
    "        The number of iterations performed\n",
    "    conv : list\n",
    "        The convergence history as a list of floats\n",
    "    \"\"\"\n",
    "    \n",
    "    def A(p):\n",
    "        # apply the Laplacian operator to p\n",
    "        return (-4.0 * p[1:-1, 1:-1] +\n",
    "                p[1:-1, :-2] + p[1:-1, 2:] +\n",
    "                p[:-2, 1:-1] + p[2:, 1:-1]) / dx**2\n",
    "    \n",
    "    p = p0.copy()\n",
    "    r = numpy.zeros_like(p)\n",
    "    Ad = numpy.zeros_like(p)\n",
    "    conv = []\n",
    "    diff = rtol + 1\n",
    "    ite = 0\n",
    "    \n",
    "    # initial residual\n",
    "    r[1:-1, 1:-1] = b[1:-1, 1:-1] - A(p)\n",
    "    \n",
    "    # initial search direction to be the residual\n",
    "    d = r.copy()\n",
    "    \n",
    "    while diff > rtol and ite < maxiter:\n",
    "        pk = p.copy()\n",
    "        rk = r.copy()\n",
    "        \n",
    "        # Laplacian of the search direction\n",
    "        Ad[1:-1, 1:-1] = A(d)\n",
    "        \n",
    "        # step size\n",
    "        alpha = numpy.sum(r * r) / numpy.sum(d * Ad)\n",
    "        \n",
    "        # update the solution\n",
    "        p = pk + alpha * d\n",
    "        \n",
    "        # update the residual\n",
    "        r = rk - alpha * Ad\n",
    "        \n",
    "        # update the search direction\n",
    "        beta = numpy.sum(r * r) / numpy.sum(rk * rk)\n",
    "        d = r + beta * d\n",
    "        \n",
    "        # relative L2-norm of the difference\n",
    "        diff = l2_norm(p, pk)\n",
    "        \n",
    "        conv.append(diff)\n",
    "        ite += 1\n",
    "    \n",
    "    return p, ite, conv"
   ]
  },
  {
   "cell_type": "code",
   "execution_count": 7,
   "metadata": {},
   "outputs": [
    {
     "name": "stdout",
     "output_type": "stream",
     "text": [
      "Method of conjugate gradients: 2 iterations to reach a relative difference of 1.2982770796281907e-16\n"
     ]
    }
   ],
   "source": [
    "p, ites, conv_cg = poisson_2d_conjugate_gradient(p0, b, dx, dy, \n",
    "                                                 maxiter=20000, rtol=1e-10)\n",
    "\n",
    "print('Method of conjugate gradients: {} iterations '.format(ites) +\n",
    "      'to reach a relative difference of {}'.format(conv_cg[-1]))"
   ]
  },
  {
   "cell_type": "markdown",
   "metadata": {},
   "source": [
    "# Diffcult Poisson Problem\n",
    "$$\n",
    "\\begin{equation}\n",
    "b = \\sin\\left(\\frac{\\pi x}{L_x}\\right) \\cos\\left(\\frac{\\pi y}{L_y}\\right) + \\sin\\left(\\frac{6\\pi x}{L_x}\\right) \\cos\\left(\\frac{6\\pi y}{L_y}\\right)\n",
    "\\end{equation}\n",
    "$$"
   ]
  },
  {
   "cell_type": "code",
   "execution_count": 8,
   "metadata": {},
   "outputs": [],
   "source": [
    "# source term for the Poission system\n",
    "b = (numpy.sin(numpy.pi * X / Lx) *\n",
    "     numpy.cos(numpy.pi * Y / Ly) +\n",
    "     numpy.sin(6.0 * numpy.pi * X / Lx) *\n",
    "     numpy.sin(6.0 * numpy.pi * Y / Ly))"
   ]
  },
  {
   "cell_type": "code",
   "execution_count": 9,
   "metadata": {},
   "outputs": [
    {
     "name": "stdout",
     "output_type": "stream",
     "text": [
      "Jacobi relaxation: 31226 iterations\n",
      "Method of steepest descent: 27059 iterations\n",
      "Method of conjugate gradients: 3 iterations\n"
     ]
    }
   ],
   "source": [
    "maxiter, rtol = 40000, 1e-10\n",
    "p, ites, conv = poisson_2d_jacobi(p0, b, dx, dy, maxiter=maxiter, \n",
    "                                  rtol=rtol)\n",
    "print('Jacobi relaxation: {} iterations'.format(ites))\n",
    "\n",
    "p, ites, conv = poisson_2d_steepest_descent(p0, b, dx, dy, \n",
    "                                            maxiter=maxiter,rtol=rtol)\n",
    "print('Method of steepest descent: {} iterations'.format(ites))\n",
    "\n",
    "p, ites, conv = poisson_2d_conjugate_gradient(p0, b, dx, dy, \n",
    "                                              maxiter=maxiter, rtol=rtol)\n",
    "print('Method of conjugate gradients: {} iterations'.format(ites))"
   ]
  }
 ],
 "metadata": {
  "kernelspec": {
   "display_name": "Python 3",
   "language": "python",
   "name": "python3"
  },
  "language_info": {
   "codemirror_mode": {
    "name": "ipython",
    "version": 3
   },
   "file_extension": ".py",
   "mimetype": "text/x-python",
   "name": "python",
   "nbconvert_exporter": "python",
   "pygments_lexer": "ipython3",
   "version": "3.6.2"
  }
 },
 "nbformat": 4,
 "nbformat_minor": 2
}
