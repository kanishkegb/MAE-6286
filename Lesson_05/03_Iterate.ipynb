{
 "cells": [
  {
   "cell_type": "markdown",
   "metadata": {},
   "source": [
    "## Test Problem\n",
    "\n",
    "\\begin{equation}\n",
    "  \\begin{gathered}\n",
    "p=0 \\text{ at } x=0\\\\\n",
    "\\frac{\\partial p}{\\partial x} = 0 \\text{ at } x = L_x\\\\\n",
    "p = 0 \\text{ at }y = 0 \\\\\n",
    "p = \\sin \\left(  \\frac{\\frac{3}{2}\\pi x}{L_x} \\right) \\text{ at } y = L_y\n",
    "  \\end{gathered}\n",
    "\\end{equation}"
   ]
  },
  {
   "cell_type": "code",
   "execution_count": 1,
   "metadata": {},
   "outputs": [],
   "source": [
    "import numpy\n",
    "from matplotlib import pyplot\n",
    "%matplotlib inline"
   ]
  },
  {
   "cell_type": "code",
   "execution_count": 2,
   "metadata": {},
   "outputs": [],
   "source": [
    "# set the font family and size to use for Matplotlib figures\n",
    "pyplot.rcParams['font.family'] = 'serif'\n",
    "pyplot.rcParams['font.size'] = 16"
   ]
  },
  {
   "cell_type": "code",
   "execution_count": 3,
   "metadata": {},
   "outputs": [],
   "source": [
    "from helper import l2_norm, poisson_2d_jacobi, poisson_solution"
   ]
  },
  {
   "cell_type": "code",
   "execution_count": 4,
   "metadata": {},
   "outputs": [],
   "source": [
    "def laplace_solution(x, y, Lx, Ly):\n",
    "    \"\"\"\n",
    "    Computes and returns the analytical solution of the Laplace equation\n",
    "    on a given two-dimensional Cartesian grid.\n",
    "\n",
    "    Parameters\n",
    "    ----------\n",
    "    x : numpy.ndarray\n",
    "        The gridline locations in the x direction as a 1D array of floats\n",
    "    y : numpy.ndarray\n",
    "        The gridline locations in the y direction as a 1D array of floats\n",
    "    Lx : float\n",
    "        Length of the domain in the x direction\n",
    "    Ly : float\n",
    "        Length of the domain in the y direction\n",
    "\n",
    "    Returns\n",
    "    -------\n",
    "    p : numpy.ndarray\n",
    "        The analytical solution as a 2D array of floats\n",
    "    \"\"\"\n",
    "    \n",
    "    X, Y = numpy.meshgrid(x, y)\n",
    "    p = (numpy.sinh(1.5 * numpy.pi * Y / Ly) /\n",
    "         numpy.sinh(1.5 * numpy.pi * Ly / Lx) *\n",
    "         numpy.sin(1.5 * numpy.pi * X / Lx))\n",
    "    \n",
    "    return p"
   ]
  },
  {
   "cell_type": "code",
   "execution_count": 5,
   "metadata": {},
   "outputs": [],
   "source": [
    "# parameters\n",
    "nx = 128  # number of points in the x direction\n",
    "ny = 128  # number of points in the y direction\n",
    "Lx = 5.0  # domain length in the x direction\n",
    "Ly = 5.0  # domain length in the y direction\n",
    "dx = Lx / (nx - 1)  # grid spacing in x direction\n",
    "dy = Ly / (ny - 1)  # grid spacing in y direction\n",
    "\n",
    "# gridline locations.\n",
    "x = numpy.linspace(0.0, Lx, num=nx)\n",
    "y = numpy.linspace(0.0, Ly, num=ny)\n",
    "\n",
    "# ICs\n",
    "p0 = numpy.zeros((ny, nx))\n",
    "p0[-1, :] = numpy.sin(1.5 * numpy.pi * x / Lx)"
   ]
  },
  {
   "cell_type": "code",
   "execution_count": 6,
   "metadata": {},
   "outputs": [],
   "source": [
    "def laplace_2d_jacobi(p0, maxiter=20000, rtol=1e-6):\n",
    "    \"\"\"\n",
    "    Solves the 2D Laplace equation on a uniform grid with equal grid \n",
    "    spacing in both directions using Jacobi relaxation method.\n",
    "    \n",
    "    The exit criterion of the solver is based on the relative L2-norm\n",
    "    of the solution difference between two consecutive iterations.\n",
    "    \n",
    "    Parameters\n",
    "    ----------\n",
    "    p0 : numpy.ndarray\n",
    "        The initial solution as a 2D array of floats\n",
    "    maxiter : integer, optional\n",
    "        Maximum number of iterations to perform\n",
    "        default: 20000\n",
    "    rtol : float, optional\n",
    "        Relative tolerance for convergence\n",
    "        default: 1e-6\n",
    "    \n",
    "    Returns\n",
    "    -------\n",
    "    p : numpy.ndarray\n",
    "        The solution after relaxation as a 2D array of floats\n",
    "    ite : integer\n",
    "        The number of iterations performed.\n",
    "    diff : float\n",
    "        The final relative L2-norm of the difference.\n",
    "    \"\"\"\n",
    "    \n",
    "    p = p0.copy()\n",
    "    diff = rtol + 1.0  # initial difference\n",
    "    ite = 0  # iteration index\n",
    "    \n",
    "    while diff > rtol and ite < maxiter:\n",
    "        pn = p.copy()\n",
    "        \n",
    "        # update the solution at interior points\n",
    "        p[1:-1, 1:-1] = 0.25 * (pn[1:-1, :-2] + pn[1:-1, 2:] +\n",
    "                                pn[:-2, 1:-1] + pn[2:, 1:-1])\n",
    "        \n",
    "        # 2nd-order Neumann condition (zero-gradient) at right boundary\n",
    "        p[1:-1, -1] = 0.25 * (2.0 * pn[1:-1, -2] +\n",
    "                              pn[2:, -1] + pn[:-2, -1])\n",
    "        \n",
    "        # relative L2-norm of the difference\n",
    "        diff = l2_norm(p, pn)\n",
    "        ite += 1\n",
    "    \n",
    "    return p, ite, diff"
   ]
  },
  {
   "cell_type": "code",
   "execution_count": 7,
   "metadata": {},
   "outputs": [
    {
     "name": "stdout",
     "output_type": "stream",
     "text": [
      "Jacobi relaxation: 19993 iterations to reach a relative difference of 9.998616841158966e-09\n"
     ]
    }
   ],
   "source": [
    "p, ites, diff = laplace_2d_jacobi(p0, maxiter=20000, rtol=1e-8)\n",
    "print('Jacobi relaxation: {} iterations '.format(ites) +\n",
    "      'to reach a relative difference of {}'.format(diff))"
   ]
  },
  {
   "cell_type": "code",
   "execution_count": 8,
   "metadata": {},
   "outputs": [
    {
     "name": "stdout",
     "output_type": "stream",
     "text": [
      "4.3 s ± 44.7 ms per loop (mean ± std. dev. of 7 runs, 1 loop each)\n"
     ]
    }
   ],
   "source": [
    "%%timeit\n",
    "laplace_2d_jacobi(p0, maxiter=20000, rtol=1e-8)"
   ]
  },
  {
   "cell_type": "code",
   "execution_count": 9,
   "metadata": {},
   "outputs": [
    {
     "data": {
      "text/plain": [
       "6.173551335297434e-05"
      ]
     },
     "execution_count": 9,
     "metadata": {},
     "output_type": "execute_result"
    }
   ],
   "source": [
    "# compute the analytical solution\n",
    "p_exact = laplace_solution(x, y, Lx, Ly)\n",
    "\n",
    "# compute the relative L2-norm of the error\n",
    "l2_norm(p, p_exact)"
   ]
  },
  {
   "cell_type": "markdown",
   "metadata": {},
   "source": [
    "## Gauss-Seidel\n",
    "\n",
    "\\begin{equation}\n",
    "p^{k+1}_{i,j} = \\frac{1}{4} \\left(p^{k+1}_{i,j-1} + p^k_{i,j+1} + p^{k+1}_{i-1,j} + p^k_{i+1,j} \\right)\n",
    "\\end{equation}"
   ]
  },
  {
   "cell_type": "code",
   "execution_count": 10,
   "metadata": {},
   "outputs": [],
   "source": [
    "def laplace_2d_gauss_seidel(p0, maxiter=20000, rtol=1e-6):\n",
    "    \"\"\"\n",
    "    Solves the 2D Laplace equation on a uniform grid with equal grid \n",
    "    spacing in both directions using Gauss-Seidel relaxation method.\n",
    "    \n",
    "    The exit criterion of the solver is based on the relative L2-norm\n",
    "    of the solution difference between two consecutive iterations.\n",
    "    \n",
    "    Parameters\n",
    "    ----------\n",
    "    p0 : numpy.ndarray\n",
    "        The initial solution as a 2D array of floats\n",
    "    maxiter : integer, optional\n",
    "        Maximum number of iterations to perform\n",
    "        default: 20000\n",
    "    rtol : float, optional\n",
    "        Relative tolerance for convergence\n",
    "        default: 1e-6\n",
    "    \n",
    "    Returns\n",
    "    -------\n",
    "    p : numpy.ndarray\n",
    "        The solution after relaxation as a 2D array of floats\n",
    "    ite : integer\n",
    "        The number of iterations performed\n",
    "    diff : float\n",
    "        The final relative L2-norm of the difference\n",
    "    \"\"\"\n",
    "    \n",
    "    ny, nx = p0.shape\n",
    "    p = p0.copy()\n",
    "    diff = rtol + 1.0  # initial difference\n",
    "    ite = 0  # iteration index\n",
    "    \n",
    "    while diff > rtol and ite < maxiter:\n",
    "        pn = p.copy()\n",
    "        \n",
    "        # update the solution at interior points.\n",
    "        for j in range(1, ny - 1):\n",
    "            for i in range(1, nx - 1):\n",
    "                p[j, i] = 0.25 * (p[j, i - 1] + p[j, i + 1] +\n",
    "                                  p[j - 1, i] + p[j + 1, i])\n",
    "        # 2nd-order Neumann condition (zero-gradient) at right boundary\n",
    "        for j in range(1, ny - 1):\n",
    "            p[j, -1] = 0.25 * (2.0 * p[j, -2] +\n",
    "                               p[j - 1, -1] + p[j + 1, -1])\n",
    "        \n",
    "        # relative L2-norm of the difference\n",
    "        diff = l2_norm(p, pn)\n",
    "        ite += 1\n",
    "        \n",
    "    return p, ite, diff"
   ]
  },
  {
   "cell_type": "code",
   "execution_count": 11,
   "metadata": {},
   "outputs": [],
   "source": [
    "import numba\n",
    "from numba import jit"
   ]
  },
  {
   "cell_type": "code",
   "execution_count": 12,
   "metadata": {},
   "outputs": [],
   "source": [
    "def fib_it(n):\n",
    "    a, b = 1, 1\n",
    "    for i in range(n - 2):\n",
    "        a, b = b, a + b\n",
    "    return b"
   ]
  },
  {
   "cell_type": "code",
   "execution_count": 13,
   "metadata": {},
   "outputs": [
    {
     "name": "stdout",
     "output_type": "stream",
     "text": [
      "3.33 s ± 17 ms per loop (mean ± std. dev. of 7 runs, 1 loop each)\n"
     ]
    }
   ],
   "source": [
    "%%timeit\n",
    "fib_it(500000)"
   ]
  },
  {
   "cell_type": "code",
   "execution_count": 14,
   "metadata": {},
   "outputs": [],
   "source": [
    "@jit(nopython=True)\n",
    "def fib_it(n):\n",
    "    a, b = 1, 1\n",
    "    for i in range(n - 2):\n",
    "        a, b = b, a + b\n",
    "    return b"
   ]
  },
  {
   "cell_type": "code",
   "execution_count": 15,
   "metadata": {},
   "outputs": [
    {
     "name": "stdout",
     "output_type": "stream",
     "text": [
      "324 µs ± 7.66 µs per loop (mean ± std. dev. of 7 runs, 1000 loops each)\n"
     ]
    }
   ],
   "source": [
    "%%timeit\n",
    "fib_it(500000)"
   ]
  },
  {
   "cell_type": "code",
   "execution_count": 16,
   "metadata": {},
   "outputs": [
    {
     "name": "stdout",
     "output_type": "stream",
     "text": [
      "0.38.1\n"
     ]
    }
   ],
   "source": [
    "print(numba.__version__)"
   ]
  },
  {
   "cell_type": "code",
   "execution_count": 17,
   "metadata": {},
   "outputs": [],
   "source": [
    "@jit(nopython=True)\n",
    "def laplace_2d_jacobi(p0, maxiter=20000, rtol=1e-6):\n",
    "    \"\"\"\n",
    "    Solves the 2D Laplace equation on a uniform grid with equal grid \n",
    "    spacing in both directions using Jacobi relaxation method.\n",
    "    \n",
    "    The exit criterion of the solver is based on the relative L2-norm\n",
    "    of the solution difference between two consecutive iterations.\n",
    "    \n",
    "    Parameters\n",
    "    ----------\n",
    "    p0 : numpy.ndarray\n",
    "        The initial solution as a 2D array of floats\n",
    "    maxiter : integer, optional\n",
    "        Maximum number of iterations to perform\n",
    "        default: 20000\n",
    "    rtol : float, optional\n",
    "        Relative tolerance for convergence\n",
    "        default: 1e-6\n",
    "    \n",
    "    Returns\n",
    "    -------\n",
    "    p : numpy.ndarray\n",
    "        The solution after relaxation as a 2D array of floats\n",
    "    ite : integer\n",
    "        The number of iterations performed.\n",
    "    diff : float\n",
    "        The final relative L2-norm of the difference.\n",
    "    \"\"\"\n",
    "    \n",
    "    ny, nx = p0.shape\n",
    "    p = p0.copy()\n",
    "    conv = []  # convergence history\n",
    "    diff = rtol + 1.0  # initial difference\n",
    "    ite = 0  # iteration index\n",
    "    \n",
    "    while diff > rtol and ite < maxiter:\n",
    "        pn = p.copy()\n",
    "        \n",
    "        # update the solution at interior points.\n",
    "        for j in range(1, ny - 1):\n",
    "            for i in range(1, nx - 1):\n",
    "                p[j, i] = 0.25 * (pn[j, i - 1] + pn[j, i + 1] +\n",
    "                                  pn[j - 1, i] + pn[j + 1, i])\n",
    "        \n",
    "        # 2nd-order Neumann condition (zero-gradient) at right boundary\n",
    "        for j in range(1, ny - 1):\n",
    "            p[j, -1] = 0.25 * (2.0 * pn[j, -2] +\n",
    "                               pn[j - 1, -1] + pn[j + 1, -1])\n",
    "        \n",
    "        # relative L2-norm of the difference\n",
    "        diff = numpy.sqrt(numpy.sum((p - pn)**2) / numpy.sum(pn**2))\n",
    "        conv.append(diff)\n",
    "        ite += 1\n",
    "    return p, ite, conv"
   ]
  },
  {
   "cell_type": "code",
   "execution_count": 18,
   "metadata": {},
   "outputs": [
    {
     "name": "stdout",
     "output_type": "stream",
     "text": [
      "Jacobi relaxation: 19993 iterations to reach a relative difference of 9.998616841313522e-09\n"
     ]
    }
   ],
   "source": [
    "p, ites, conv_jacobi = laplace_2d_jacobi(p0,\n",
    "                                         maxiter=20000, rtol=1e-8)\n",
    "print('Jacobi relaxation: {} iterations '.format(ites) +\n",
    "      'to reach a relative difference of {}'.format(conv_jacobi[-1]))"
   ]
  },
  {
   "cell_type": "code",
   "execution_count": 19,
   "metadata": {},
   "outputs": [
    {
     "name": "stdout",
     "output_type": "stream",
     "text": [
      "1.64 s ± 2.7 ms per loop (mean ± std. dev. of 7 runs, 1 loop each)\n"
     ]
    }
   ],
   "source": [
    "%%timeit\n",
    "laplace_2d_jacobi(p0, maxiter=20000, rtol=1e-8)"
   ]
  },
  {
   "cell_type": "code",
   "execution_count": 20,
   "metadata": {},
   "outputs": [],
   "source": [
    "@jit(nopython=True)\n",
    "def laplace_2d_gauss_seidel(p0, maxiter=20000, rtol=1e-6):\n",
    "    \"\"\"\n",
    "    Solves the 2D Laplace equation on a uniform grid\n",
    "    with equal grid spacing in both directions\n",
    "    using Gauss-Seidel relaxation method.\n",
    "    \n",
    "    The exit criterion of the solver is based on the relative L2-norm\n",
    "    of the solution difference between two consecutive iterations.\n",
    "    \n",
    "    Parameters\n",
    "    ----------\n",
    "    p0 : numpy.ndarray\n",
    "        The initial solution as a 2D array of floats.\n",
    "    maxiter : integer, optional\n",
    "        Maximum number of iterations to perform;\n",
    "        default: 20000.\n",
    "    rtol : float, optional\n",
    "        Relative tolerance for convergence;\n",
    "        default: 1e-6.\n",
    "    \n",
    "    Returns\n",
    "    -------\n",
    "    p : numpy.ndarray\n",
    "        The solution after relaxation as a 2D array of floats.\n",
    "    ite : integer\n",
    "        The number of iterations performed.\n",
    "    conv : list\n",
    "        The convergence history as a list of floats.\n",
    "    \"\"\"\n",
    "    \n",
    "    ny, nx = p0.shape\n",
    "    p = p0.copy()\n",
    "    conv = []  # convergence history\n",
    "    diff = rtol + 1.0  # initial difference\n",
    "    ite = 0  # iteration index\n",
    "\n",
    "    while diff > rtol and ite < maxiter:\n",
    "        pn = p.copy()\n",
    "        \n",
    "        # update the solution at interior points\n",
    "        for j in range(1, ny - 1):\n",
    "            for i in range(1, nx - 1):\n",
    "                p[j, i] = 0.25 * (p[j, i - 1] + p[j, i + 1] +\n",
    "                                  p[j - 1, i] + p[j + 1, i])\n",
    "        \n",
    "        # 2nd-order Neumann condition (zero-gradient) at right boundary\n",
    "        for j in range(1, ny - 1):\n",
    "            p[j, -1] = 0.25 * (2.0 * p[j, -2] +\n",
    "                               p[j - 1, -1] + p[j + 1, -1])\n",
    "        \n",
    "        # compute the relative L2-norm of the difference\n",
    "        diff = numpy.sqrt(numpy.sum((p - pn)**2) / numpy.sum(pn**2))\n",
    "        conv.append(diff)\n",
    "        ite += 1\n",
    "    \n",
    "    return p, ite, conv"
   ]
  },
  {
   "cell_type": "code",
   "execution_count": 21,
   "metadata": {},
   "outputs": [
    {
     "name": "stdout",
     "output_type": "stream",
     "text": [
      "Gauss-Seidel relaxation: 13939 iterations to reach a relative difference of 9.997635652064425e-09\n"
     ]
    }
   ],
   "source": [
    "p, ites, conv_gs = laplace_2d_gauss_seidel(p0,\n",
    "                                           maxiter=20000, rtol=1e-8)\n",
    "print('Gauss-Seidel relaxation: {} iterations '.format(ites) +\n",
    "      'to reach a relative difference of {}'.format(conv_gs[-1]))"
   ]
  },
  {
   "cell_type": "code",
   "execution_count": 22,
   "metadata": {},
   "outputs": [
    {
     "name": "stdout",
     "output_type": "stream",
     "text": [
      "2.45 s ± 3.63 ms per loop (mean ± std. dev. of 7 runs, 1 loop each)\n"
     ]
    }
   ],
   "source": [
    "%%timeit\n",
    "laplace_2d_gauss_seidel(p0, maxiter=20000, rtol=1e-8)"
   ]
  },
  {
   "cell_type": "markdown",
   "metadata": {},
   "source": [
    "## Successive Over Relaxation (SOR)\n",
    "\n",
    "\\begin{equation}\n",
    "p^{k+1}_{i,j} = (1 - \\omega)p^k_{i,j} + \\frac{\\omega}{4} \\left(p^{k+1}_{i,j-1} + p^k_{i,j+1} + p^{k+1}_{i-1,j} + p^k_{i+1,j} \\right)\n",
    "\\end{equation}\n",
    "\n",
    "If $\\omega<1$, that is technically an \"under-relaxation\" and it will be slower than Gauss-Seidel.\n",
    "If $\\omega>1$, that's the over-relaxation and it should converge faster than Gauss-Seidel."
   ]
  },
  {
   "cell_type": "code",
   "execution_count": 23,
   "metadata": {},
   "outputs": [],
   "source": [
    "@jit(nopython=True)\n",
    "def laplace_2d_sor(p0, omega, maxiter=20000, rtol=1e-6):\n",
    "    \"\"\"\n",
    "    Solves the 2D Laplace equation on a uniform grid with equal grid \n",
    "    spacing in both directions using successive over-relaxation (SOR) \n",
    "    method.\n",
    "    \n",
    "    The exit criterion of the solver is based on the relative L2-norm\n",
    "    of the solution difference between two consecutive iterations.\n",
    "    \n",
    "    Parameters\n",
    "    ----------\n",
    "    p0 : numpy.ndarray\n",
    "        The initial solution as a 2D array of floats\n",
    "    omega : float\n",
    "        Relaxation parameter\n",
    "    maxiter : integer, optional\n",
    "        Maximum number of iterations to perform\n",
    "        default: 20000\n",
    "    rtol : float, optional\n",
    "        Relative tolerance for convergence\n",
    "        default: 1e-6\n",
    "    \n",
    "    Returns\n",
    "    -------\n",
    "    p : numpy.ndarray\n",
    "        The solution after relaxation as a 2D array of floats\n",
    "    ite : integer\n",
    "        The number of iterations performed\n",
    "    conv : list\n",
    "        The convergence history as a list of floats\n",
    "    \"\"\"\n",
    "    \n",
    "    ny, nx = p0.shape\n",
    "    p = p0.copy()\n",
    "    conv = []  # convergence history\n",
    "    diff = rtol + 1.0  # initial difference\n",
    "    ite = 0  # iteration index\n",
    "    \n",
    "    while diff > rtol and ite < maxiter:\n",
    "        pn = p.copy()\n",
    "        \n",
    "        # update the solution at interior points\n",
    "        for j in range(1, ny - 1):\n",
    "            for i in range(1, nx - 1):\n",
    "                p[j, i] = ((1.0 - omega) * p[j, i] +\n",
    "                           omega * 0.25 *(p[j, i - 1] + p[j, i + 1] +\n",
    "                                          p[j - 1, i] + p[j + 1, i]))\n",
    "        \n",
    "        # 2nd-order Neumann condition (zero-gradient) at right boundary\n",
    "        for j in range(1, ny - 1):\n",
    "            p[j, -1] = 0.25 * (2.0 * p[j, -2] +\n",
    "                               p[j - 1, -1] + p[j + 1, -1])\n",
    "        \n",
    "        # relative L2-norm of the difference\n",
    "        diff = numpy.sqrt(numpy.sum((p - pn)**2) / numpy.sum(pn**2))\n",
    "        conv.append(diff)\n",
    "        ite += 1\n",
    "    \n",
    "    return p, ite, conv"
   ]
  },
  {
   "cell_type": "code",
   "execution_count": 24,
   "metadata": {},
   "outputs": [
    {
     "name": "stdout",
     "output_type": "stream",
     "text": [
      "SOR (omega=1.0): 13939 iterations to reach a relative difference of 9.997635652064425e-09\n"
     ]
    }
   ],
   "source": [
    "omega = 1.0\n",
    "p, ites, conv_sor = laplace_2d_sor(p0, omega,\n",
    "                                   maxiter=20000, rtol=1e-8)\n",
    "print('SOR (omega={}): {} iterations '.format(omega, ites) +\n",
    "      'to reach a relative difference of {}'.format(conv_sor[-1]))"
   ]
  },
  {
   "cell_type": "code",
   "execution_count": 25,
   "metadata": {},
   "outputs": [
    {
     "name": "stdout",
     "output_type": "stream",
     "text": [
      "SOR (omega=1.5): 7108 iterations to reach a relative difference of 9.991011447055284e-09\n"
     ]
    }
   ],
   "source": [
    "omega = 1.5\n",
    "p, ites, conv_sor = laplace_2d_sor(p0, omega,\n",
    "                                   maxiter=20000, rtol=1e-8)\n",
    "print('SOR (omega={}): {} iterations '.format(omega, ites) +\n",
    "      'to reach a relative difference of {}'.format(conv_sor[-1]))"
   ]
  },
  {
   "cell_type": "code",
   "execution_count": 26,
   "metadata": {},
   "outputs": [
    {
     "name": "stdout",
     "output_type": "stream",
     "text": [
      "1.38 s ± 1.92 ms per loop (mean ± std. dev. of 7 runs, 1 loop each)\n"
     ]
    }
   ],
   "source": [
    "%%timeit\n",
    "laplace_2d_sor(p0, omega, maxiter=20000, rtol=1e-8)"
   ]
  },
  {
   "cell_type": "markdown",
   "metadata": {},
   "source": [
    "### Tuned SOR\n",
    "\n",
    "\\begin{equation}\n",
    "\\omega \\approx \\frac{2}{1+\\frac{\\pi}{nx}}\n",
    "\\end{equation}"
   ]
  },
  {
   "cell_type": "code",
   "execution_count": 27,
   "metadata": {},
   "outputs": [
    {
     "name": "stdout",
     "output_type": "stream",
     "text": [
      "SOR (omega=1.9521): 1110 iterations to reach a relative difference of 9.964283907855956e-09\n"
     ]
    }
   ],
   "source": [
    "omega = 2.0 / (1.0 + numpy.pi / nx)\n",
    "p, ites, conv_opt_sor = laplace_2d_sor(p0, omega,\n",
    "                                       maxiter=20000, rtol=1e-8)\n",
    "print('SOR (omega={:.4f}): {} iterations '.format(omega, ites) +\n",
    "      'to reach a relative difference of {}'.format(conv_opt_sor[-1]))"
   ]
  },
  {
   "cell_type": "code",
   "execution_count": 28,
   "metadata": {},
   "outputs": [
    {
     "name": "stdout",
     "output_type": "stream",
     "text": [
      "218 ms ± 2.33 ms per loop (mean ± std. dev. of 7 runs, 1 loop each)\n"
     ]
    }
   ],
   "source": [
    "%%timeit\n",
    "laplace_2d_sor(p0, omega, maxiter=20000, rtol=1e-8)"
   ]
  },
  {
   "cell_type": "code",
   "execution_count": 29,
   "metadata": {},
   "outputs": [
    {
     "data": {
      "text/plain": [
       "7.792743355064513e-05"
      ]
     },
     "execution_count": 29,
     "metadata": {},
     "output_type": "execute_result"
    }
   ],
   "source": [
    "# relative L2-norm of the error\n",
    "l2_norm(p, p_exact)"
   ]
  },
  {
   "cell_type": "markdown",
   "metadata": {},
   "source": [
    "## Decay of Difference Between Iterates"
   ]
  },
  {
   "cell_type": "code",
   "execution_count": 30,
   "metadata": {},
   "outputs": [
    {
     "data": {
      "image/png": "[encoded data removed]",
      "text/plain": [
       "<Figure size 648x288 with 1 Axes>"
      ]
     },
     "metadata": {},
     "output_type": "display_data"
    }
   ],
   "source": [
    "# plot the convergence history for different methods\n",
    "pyplot.figure(figsize=(9.0, 4.0))\n",
    "pyplot.xlabel('Iterations')\n",
    "pyplot.ylabel('Relative $L_2$-norm\\nof the difference')\n",
    "pyplot.grid()\n",
    "pyplot.semilogy(conv_jacobi, label='Jacobi')\n",
    "pyplot.semilogy(conv_gs, label='Gauss-Seidel')\n",
    "pyplot.semilogy(conv_sor, label='SOR')\n",
    "pyplot.semilogy(conv_opt_sor, label='Optimized SOR')\n",
    "pyplot.legend()\n",
    "pyplot.xlim(0, 20000);"
   ]
  }
 ],
 "metadata": {
  "kernelspec": {
   "display_name": "Python 3",
   "language": "python",
   "name": "python3"
  },
  "language_info": {
   "codemirror_mode": {
    "name": "ipython",
    "version": 3
   },
   "file_extension": ".py",
   "mimetype": "text/x-python",
   "name": "python",
   "nbconvert_exporter": "python",
   "pygments_lexer": "ipython3",
   "version": "3.6.2"
  }
 },
 "nbformat": 4,
 "nbformat_minor": 2
}
