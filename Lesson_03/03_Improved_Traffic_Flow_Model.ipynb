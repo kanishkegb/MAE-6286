{
 "cells": [
  {
   "cell_type": "markdown",
   "metadata": {},
   "source": [
    "## Traffic flow - Revisited\n",
    "\n",
    "Cars obey typical conservatook law,\n",
    "\n",
    "$$\n",
    "\\begin{equation}\n",
    "\\frac{\\partial \\rho}{\\partial t} + \\frac{\\partial F}{\\partial x} = 0\n",
    "\\end{equation}\n",
    "$$\n",
    "where $F$ is the flux, and $F=\\rho u$. But, from our experience we know that the traffic speed is a function of traffic density. The following aprroximation makes a linear relation between the two.\n",
    "\n",
    "$$\n",
    "F(\\rho) = \\rho \\, u_{max}\\left(1 - \\frac{\\rho}{\\rho_{max}} \\right)\n",
    "$$\n",
    "\n",
    "This flux model meet two requirements:\n",
    "1. $u \\rightarrow u_{max}$ and $F\\rightarrow 0$ when $\\rho \\rightarrow 0$,\n",
    "2. $u \\rightarrow 0$ as $\\rho \\rightarrow \\rho_{max}$.\n",
    "\n",
    "This leads to some unrealistic or at least improbable results. For example, the maximum flux occurs at the maximum flux $\\rho^*$, corresponding to a traffic speed of $u_{max}/2$.\n",
    "\n",
    "We do not expect the maximum flux to increase if we allow arbitrarily high speeds, but there should be some ideal traffic speed $u^*$ corresponding to an ideal traffic density $\\rho^*$, resulting in the maximum traffic flux:\n",
    "$$\n",
    "F_{\\rm max} = \\rho^{\\star}u^{\\star}.\n",
    "$$\n",
    "\n",
    "Modifying the introduces flux model by taking this into account, we get,\n",
    "$$\n",
    "F(\\rho) = u_{\\rm max}\\rho (1 - A\\rho - B \\rho^2)\n",
    "$$\n",
    "For this model, $F\\rightarrow 0$ when $\\rho \\rightarrow 0$. Let's impose following conditions:\n",
    "1. When $\\rho = \\rho_{\\rm max}$ traffic flux goes to zero:\n",
    "$$\n",
    "F(\\rho_{\\rm max}) = 0 = u_{\\rm max}\\, \\rho_{\\rm max}(1 - A \\rho_{\\rm max} - B \\rho_{\\rm max}^2)\n",
    "$$\n",
    "2. maximum flux occurs when $\\rho = \\rho^{\\star}$ and $F'(\\rho^{\\star}) = 0$:\n",
    "$$\n",
    "F'(\\rho^{\\star}) = 0  = u_{\\rm max}(1 - 2A\\rho^{\\star} - 3B(\\rho^{\\star})^2)\n",
    "$$\n",
    "3. $u^{\\star}$ is obtained when $\\rho = \\rho^{\\star}$:\n",
    "$$\n",
    "u^{\\star} = u_{\\rm max}(1 - A \\rho^{\\star} - B(\\rho^{\\star})^2)\n",
    "$$\n",
    "\n",
    "We have three equations and four unknowns $A,B,\\rho^{\\star}, u^{\\star}$"
   ]
  },
  {
   "cell_type": "markdown",
   "metadata": {},
   "source": [
    "### Solving New Flux Equations with SymPy"
   ]
  },
  {
   "cell_type": "code",
   "execution_count": 1,
   "metadata": {
    "collapsed": true
   },
   "outputs": [],
   "source": [
    "import sympy\n",
    "sympy.init_printing()\n",
    "\n",
    "(u_max, u_star, rho_max,\n",
    " rho_star, A, B) = sympy.symbols('u_max u_star rho_max rho_star A B')"
   ]
  },
  {
   "cell_type": "code",
   "execution_count": 2,
   "metadata": {
    "collapsed": true
   },
   "outputs": [],
   "source": [
    "eq1 = sympy.Eq(0, u_max * rho_max * (1 - A * rho_max - B * rho_max**2))\n",
    "eq2 = sympy.Eq(0, u_max * (1 - 2 * A * rho_star - 3 * B * rho_star**2))\n",
    "eq3 = sympy.Eq(u_star, u_max * (1 - A * rho_star - B * rho_star**2))"
   ]
  },
  {
   "cell_type": "code",
   "execution_count": 3,
   "metadata": {},
   "outputs": [
    {
     "data": {
      "image/png": "[encoded data removed]",
      "text/latex": [
       "$$0 = \\rho_{max} u_{max} \\left(- A \\rho_{max} - B \\rho_{max}^{2} + 1\\right)$$"
      ],
      "text/plain": [
       "              ⎛                2    ⎞\n",
       "0 = ρₘₐₓ⋅uₘₐₓ⋅⎝-A⋅ρₘₐₓ - B⋅ρₘₐₓ  + 1⎠"
      ]
     },
     "execution_count": 3,
     "metadata": {},
     "output_type": "execute_result"
    }
   ],
   "source": [
    "eq1"
   ]
  },
  {
   "cell_type": "code",
   "execution_count": 4,
   "metadata": {},
   "outputs": [
    {
     "data": {
      "image/png": "[encoded data removed]",
      "text/latex": [
       "$$0 = u_{max} \\left(- 2 A \\rho_{star} - 3 B \\rho_{star}^{2} + 1\\right)$$"
      ],
      "text/plain": [
       "         ⎛                      2    ⎞\n",
       "0 = uₘₐₓ⋅⎝-2⋅A⋅ρₛₜₐᵣ - 3⋅B⋅ρₛₜₐᵣ  + 1⎠"
      ]
     },
     "execution_count": 4,
     "metadata": {},
     "output_type": "execute_result"
    }
   ],
   "source": [
    "eq2"
   ]
  },
  {
   "cell_type": "code",
   "execution_count": 5,
   "metadata": {},
   "outputs": [
    {
     "data": {
      "image/png": "[encoded data removed]",
      "text/latex": [
       "$$u_{star} = u_{max} \\left(- A \\rho_{star} - B \\rho_{star}^{2} + 1\\right)$$"
      ],
      "text/plain": [
       "             ⎛                  2    ⎞\n",
       "uₛₜₐᵣ = uₘₐₓ⋅⎝-A⋅ρₛₜₐᵣ - B⋅ρₛₜₐᵣ  + 1⎠"
      ]
     },
     "execution_count": 5,
     "metadata": {},
     "output_type": "execute_result"
    }
   ],
   "source": [
    "eq3"
   ]
  },
  {
   "cell_type": "code",
   "execution_count": 6,
   "metadata": {},
   "outputs": [
    {
     "data": {
      "image/png": "[encoded data removed]",
      "text/latex": [
       "$$- 3 u_{star} = u_{max} \\left(- 2 A \\rho_{star} - 3 B \\rho_{star}^{2} + 1\\right) - 3 u_{max} \\left(- A \\rho_{star} - B \\rho_{star}^{2} + 1\\right)$$"
      ],
      "text/plain": [
       "                ⎛                      2    ⎞          ⎛                  2   \n",
       "-3⋅uₛₜₐᵣ = uₘₐₓ⋅⎝-2⋅A⋅ρₛₜₐᵣ - 3⋅B⋅ρₛₜₐᵣ  + 1⎠ - 3⋅uₘₐₓ⋅⎝-A⋅ρₛₜₐᵣ - B⋅ρₛₜₐᵣ  + \n",
       "\n",
       " ⎞\n",
       "1⎠"
      ]
     },
     "execution_count": 6,
     "metadata": {},
     "output_type": "execute_result"
    }
   ],
   "source": [
    "eq4 = sympy.Eq(eq2.lhs - 3 * eq3.lhs, eq2.rhs - 3 * eq3.rhs)\n",
    "eq4"
   ]
  },
  {
   "cell_type": "code",
   "execution_count": 7,
   "metadata": {},
   "outputs": [
    {
     "data": {
      "image/png": "[encoded data removed]",
      "text/latex": [
       "$$3 u_{star} = - u_{max} \\left(A \\rho_{star} - 2\\right)$$"
      ],
      "text/plain": [
       "3⋅uₛₜₐᵣ = -uₘₐₓ⋅(A⋅ρₛₜₐᵣ - 2)"
      ]
     },
     "execution_count": 7,
     "metadata": {},
     "output_type": "execute_result"
    }
   ],
   "source": [
    "eq4.simplify()"
   ]
  },
  {
   "cell_type": "code",
   "execution_count": 8,
   "metadata": {},
   "outputs": [
    {
     "data": {
      "image/png": "[encoded data removed]",
      "text/latex": [
       "$$- 3 u_{star} = A \\rho_{star} u_{max} - 2 u_{max}$$"
      ],
      "text/plain": [
       "-3⋅uₛₜₐᵣ = A⋅ρₛₜₐᵣ⋅uₘₐₓ - 2⋅uₘₐₓ"
      ]
     },
     "execution_count": 8,
     "metadata": {},
     "output_type": "execute_result"
    }
   ],
   "source": [
    "eq4.expand()"
   ]
  },
  {
   "cell_type": "code",
   "execution_count": 9,
   "metadata": {},
   "outputs": [
    {
     "data": {
      "image/png": "[encoded data removed]",
      "text/latex": [
       "$$\\frac{1}{A u_{max}} \\left(2 u_{max} - 3 u_{star}\\right)$$"
      ],
      "text/plain": [
       "2⋅uₘₐₓ - 3⋅uₛₜₐᵣ\n",
       "────────────────\n",
       "     A⋅uₘₐₓ     "
      ]
     },
     "execution_count": 9,
     "metadata": {},
     "output_type": "execute_result"
    }
   ],
   "source": [
    "rho_sol = sympy.solve(eq4, rho_star)[0]\n",
    "rho_sol"
   ]
  },
  {
   "cell_type": "code",
   "execution_count": 10,
   "metadata": {},
   "outputs": [
    {
     "data": {
      "image/png": "[encoded data removed]",
      "text/latex": [
       "$$\\frac{1}{\\rho_{max}^{2}} \\left(- A \\rho_{max} + 1\\right)$$"
      ],
      "text/plain": [
       "-A⋅ρₘₐₓ + 1\n",
       "───────────\n",
       "       2   \n",
       "   ρₘₐₓ    "
      ]
     },
     "execution_count": 10,
     "metadata": {},
     "output_type": "execute_result"
    }
   ],
   "source": [
    "B_sol = sympy.solve(eq1, B)[0]\n",
    "B_sol"
   ]
  },
  {
   "cell_type": "code",
   "execution_count": 11,
   "metadata": {},
   "outputs": [
    {
     "data": {
      "image/png": "[encoded data removed]",
      "text/latex": [
       "$$0 = u_{max} \\left(1 - \\frac{1}{u_{max}} \\left(4 u_{max} - 6 u_{star}\\right) - \\frac{3 \\left(2 u_{max} - 3 u_{star}\\right)^{2}}{A^{2} \\rho_{max}^{2} u_{max}^{2}} \\left(- A \\rho_{max} + 1\\right)\\right)$$"
      ],
      "text/plain": [
       "         ⎛                                               2              ⎞\n",
       "         ⎜    2⋅(2⋅uₘₐₓ - 3⋅uₛₜₐᵣ)   3⋅(2⋅uₘₐₓ - 3⋅uₛₜₐᵣ) ⋅(-A⋅ρₘₐₓ + 1)⎟\n",
       "0 = uₘₐₓ⋅⎜1 - ──────────────────── - ───────────────────────────────────⎟\n",
       "         ⎜            uₘₐₓ                       2     2     2          ⎟\n",
       "         ⎝                                      A ⋅ρₘₐₓ ⋅uₘₐₓ           ⎠"
      ]
     },
     "execution_count": 11,
     "metadata": {},
     "output_type": "execute_result"
    }
   ],
   "source": [
    "quadA = eq2.subs([(rho_star, rho_sol), (B, B_sol)])\n",
    "quadA"
   ]
  },
  {
   "cell_type": "code",
   "execution_count": 12,
   "metadata": {},
   "outputs": [
    {
     "data": {
      "image/png": "[encoded data removed]",
      "text/latex": [
       "$$- 3 u_{max} + 6 u_{star} + \\frac{3 \\left(2 u_{max} - 3 u_{star}\\right)^{2}}{A \\rho_{max} u_{max}} - \\frac{3 \\left(2 u_{max} - 3 u_{star}\\right)^{2}}{A^{2} \\rho_{max}^{2} u_{max}} = 0$$"
      ],
      "text/plain": [
       "                                        2                       2    \n",
       "                    3⋅(2⋅uₘₐₓ - 3⋅uₛₜₐᵣ)    3⋅(2⋅uₘₐₓ - 3⋅uₛₜₐᵣ)     \n",
       "-3⋅uₘₐₓ + 6⋅uₛₜₐᵣ + ───────────────────── - ───────────────────── = 0\n",
       "                         A⋅ρₘₐₓ⋅uₘₐₓ             2     2             \n",
       "                                                A ⋅ρₘₐₓ ⋅uₘₐₓ        "
      ]
     },
     "execution_count": 12,
     "metadata": {},
     "output_type": "execute_result"
    }
   ],
   "source": [
    "quadA.simplify()"
   ]
  },
  {
   "cell_type": "code",
   "execution_count": 13,
   "metadata": {
    "collapsed": true
   },
   "outputs": [],
   "source": [
    "A_sol = sympy.solve(quadA, A)"
   ]
  },
  {
   "cell_type": "code",
   "execution_count": 14,
   "metadata": {},
   "outputs": [
    {
     "data": {
      "image/png": "[encoded data removed]",
      "text/latex": [
       "$$\\frac{1}{2 \\rho_{max} u_{max} \\left(u_{max} - 2 u_{star}\\right)} \\left(\\sqrt{- u_{star} \\left(4 u_{max} - 9 u_{star}\\right)} \\left(- 2 u_{max} + 3 u_{star}\\right) + \\left(2 u_{max} - 3 u_{star}\\right)^{2}\\right)$$"
      ],
      "text/plain": [
       "  ___________________________                                         2\n",
       "╲╱ -uₛₜₐᵣ⋅(4⋅uₘₐₓ - 9⋅uₛₜₐᵣ) ⋅(-2⋅uₘₐₓ + 3⋅uₛₜₐᵣ) + (2⋅uₘₐₓ - 3⋅uₛₜₐᵣ) \n",
       "───────────────────────────────────────────────────────────────────────\n",
       "                      2⋅ρₘₐₓ⋅uₘₐₓ⋅(uₘₐₓ - 2⋅uₛₜₐᵣ)                     "
      ]
     },
     "execution_count": 14,
     "metadata": {},
     "output_type": "execute_result"
    }
   ],
   "source": [
    "A_sol[0]"
   ]
  },
  {
   "cell_type": "code",
   "execution_count": 15,
   "metadata": {},
   "outputs": [
    {
     "data": {
      "image/png": "[encoded data removed]",
      "text/latex": [
       "$$\\frac{1}{2 \\rho_{max} u_{max} \\left(u_{max} - 2 u_{star}\\right)} \\left(2 u_{max} - 3 u_{star}\\right) \\left(2 u_{max} - 3 u_{star} + \\sqrt{- u_{star} \\left(4 u_{max} - 9 u_{star}\\right)}\\right)$$"
      ],
      "text/plain": [
       "                   ⎛                     ___________________________⎞\n",
       "(2⋅uₘₐₓ - 3⋅uₛₜₐᵣ)⋅⎝2⋅uₘₐₓ - 3⋅uₛₜₐᵣ + ╲╱ -uₛₜₐᵣ⋅(4⋅uₘₐₓ - 9⋅uₛₜₐᵣ) ⎠\n",
       "─────────────────────────────────────────────────────────────────────\n",
       "                     2⋅ρₘₐₓ⋅uₘₐₓ⋅(uₘₐₓ - 2⋅uₛₜₐᵣ)                    "
      ]
     },
     "execution_count": 15,
     "metadata": {},
     "output_type": "execute_result"
    }
   ],
   "source": [
    "A_sol[1]"
   ]
  },
  {
   "cell_type": "markdown",
   "metadata": {},
   "source": [
    "### Evaluating the New Flux Equation\n",
    "\n",
    "Let's numerically evaluate the solutions for A using the following values:\n",
    "$$\n",
    "\\begin{align} \n",
    "\\rho_{\\rm max} &=10.0 \\nonumber\\\\ u_{\\rm max} &=1.0 \\nonumber\\\\ u^{\\star} &=0.7 \\nonumber\n",
    "\\end{align}\n",
    "$$"
   ]
  },
  {
   "cell_type": "code",
   "execution_count": 16,
   "metadata": {},
   "outputs": [
    {
     "data": {
      "image/png": "[encoded data removed]",
      "text/latex": [
       "$$-0.0171107219255619$$"
      ],
      "text/plain": [
       "-0.0171107219255619"
      ]
     },
     "execution_count": 16,
     "metadata": {},
     "output_type": "execute_result"
    }
   ],
   "source": [
    "A_val_0 = A_sol[0].evalf(subs={u_star: 0.7, u_max: 1.0, rho_max: 10.0})\n",
    "A_val_0"
   ]
  },
  {
   "cell_type": "code",
   "execution_count": 17,
   "metadata": {},
   "outputs": [
    {
     "data": {
      "image/png": "[encoded data removed]",
      "text/latex": [
       "$$0.0146107219255619$$"
      ],
      "text/plain": [
       "0.0146107219255619"
      ]
     },
     "execution_count": 17,
     "metadata": {},
     "output_type": "execute_result"
    }
   ],
   "source": [
    "A_val_1 = A_sol[1].evalf(subs={u_star: 0.7, u_max: 1.0, rho_max: 10.0})\n",
    "A_val_1"
   ]
  },
  {
   "cell_type": "code",
   "execution_count": 18,
   "metadata": {},
   "outputs": [
    {
     "data": {
      "image/png": "[encoded data removed]",
      "text/latex": [
       "$$0.0146107219255619$$"
      ],
      "text/plain": [
       "0.0146107219255619"
      ]
     },
     "execution_count": 18,
     "metadata": {},
     "output_type": "execute_result"
    }
   ],
   "source": [
    "A_val = max(A_val_0, A_val_1)\n",
    "A_val"
   ]
  },
  {
   "cell_type": "code",
   "execution_count": 19,
   "metadata": {},
   "outputs": [
    {
     "data": {
      "image/png": "[encoded data removed]",
      "text/latex": [
       "$$0.00853892780744381$$"
      ],
      "text/plain": [
       "0.00853892780744381"
      ]
     },
     "execution_count": 19,
     "metadata": {},
     "output_type": "execute_result"
    }
   ],
   "source": [
    "B_val = B_sol.evalf(subs={rho_max: 10.0, A: A_val})\n",
    "B_val"
   ]
  },
  {
   "cell_type": "code",
   "execution_count": 20,
   "metadata": {
    "collapsed": true
   },
   "outputs": [],
   "source": [
    "sympy.init_printing(use_latex=False)"
   ]
  },
  {
   "cell_type": "code",
   "execution_count": 21,
   "metadata": {},
   "outputs": [
    {
     "name": "stdout",
     "output_type": "stream",
     "text": [
      "<class 'sympy.core.symbol.Symbol'> <class 'sympy.core.symbol.Symbol'>\n"
     ]
    }
   ],
   "source": [
    "print(type(rho_max), type(u_max))"
   ]
  },
  {
   "cell_type": "code",
   "execution_count": 22,
   "metadata": {
    "collapsed": true
   },
   "outputs": [],
   "source": [
    "rho_max = 10.0\n",
    "u_max = 1.0"
   ]
  },
  {
   "cell_type": "code",
   "execution_count": 23,
   "metadata": {
    "collapsed": true
   },
   "outputs": [],
   "source": [
    "def flux(rho, u_max, A, B):\n",
    "    \"\"\"\n",
    "    Computes the traffic flux for the better model.\n",
    "    \n",
    "    Parameters\n",
    "    ----------\n",
    "    rho : numpy.ndarray\n",
    "       Traffic density along the road as a 1D array of floats\n",
    "    u_max : float\n",
    "        Maximum speed allowed on the road\n",
    "    A : float\n",
    "        Scaling coefficient for rho\n",
    "    B : float\n",
    "        Scaling coefficient for rho squared\n",
    "    \n",
    "    Returns\n",
    "    -------\n",
    "    F : numpy.ndarray\n",
    "        The traffic flux along the road as a 1D array of floats.\n",
    "    \"\"\"\n",
    "    F = rho * u_max * (1.0 - A * rho - B * rho**2)\n",
    "    return F"
   ]
  },
  {
   "cell_type": "code",
   "execution_count": 24,
   "metadata": {
    "collapsed": true
   },
   "outputs": [],
   "source": [
    "import numpy\n",
    "from matplotlib import pyplot\n",
    "%matplotlib inline"
   ]
  },
  {
   "cell_type": "code",
   "execution_count": 25,
   "metadata": {
    "collapsed": true
   },
   "outputs": [],
   "source": [
    "# set the font family and size to use for Matplotlib figures\n",
    "pyplot.rcParams['font.family'] = 'serif'\n",
    "pyplot.rcParams['font.size'] = 16"
   ]
  },
  {
   "cell_type": "code",
   "execution_count": 26,
   "metadata": {
    "collapsed": true
   },
   "outputs": [],
   "source": [
    "def rho_green_light(x, rho_light):\n",
    "    \"\"\"\n",
    "    Computes the \"green light\" initial condition. It consists of a \n",
    "    shock with a linear distribution behind it.\n",
    "    \n",
    "    Parameters\n",
    "    ----------\n",
    "    x : numpy.ndarray\n",
    "        Locations on the road as a 1D array of floats\n",
    "    rho_light : float\n",
    "        Car density at the stoplight\n",
    "    \n",
    "    Returns\n",
    "    -------\n",
    "    rho : numpy.ndarray\n",
    "        The initial car density along the road as a 1D array of floats\n",
    "    \"\"\"\n",
    "    \n",
    "    rho = numpy.zeros_like(x)\n",
    "    mask = numpy.where(x < 2.0)\n",
    "    rho[mask] = rho_light * x[mask] / 2.0\n",
    "    \n",
    "    return rho"
   ]
  },
  {
   "cell_type": "code",
   "execution_count": 27,
   "metadata": {
    "collapsed": true
   },
   "outputs": [],
   "source": [
    "# set parameters\n",
    "nx = 81  # number of locations on the road\n",
    "L = 4.0  # length of the road\n",
    "dx = L / (nx - 1)  # distance between two consecutive locations\n",
    "nt = 30  # number of time steps to compute\n",
    "rho_light = 5.0  # car density at the traffic light.\n",
    "\n",
    "# define the locations on the road\n",
    "x = numpy.linspace(0.0, L, num=nx)\n",
    "\n",
    "# compute the initial traffic density\n",
    "rho0 = rho_green_light(x, rho_light)"
   ]
  },
  {
   "cell_type": "code",
   "execution_count": 28,
   "metadata": {
    "scrolled": true
   },
   "outputs": [
    {
     "data": {
      "image/png": "[encoded data removed]",
      "text/plain": [
       "<matplotlib.figure.Figure at 0x1c7c3f9ce80>"
      ]
     },
     "metadata": {},
     "output_type": "display_data"
    }
   ],
   "source": [
    "# plot the initial car density on the road\n",
    "fig = pyplot.figure(figsize=(6.0, 4.0))\n",
    "pyplot.xlabel(r'$x$')\n",
    "pyplot.ylabel(r'$\\rho$')\n",
    "pyplot.grid()\n",
    "line = pyplot.plot(x, rho0, color='C0', linestyle='-', linewidth=2)[0]\n",
    "pyplot.xlim(0.0, L)\n",
    "pyplot.ylim(-0.5, 6.0)\n",
    "pyplot.tight_layout();"
   ]
  },
  {
   "cell_type": "code",
   "execution_count": 29,
   "metadata": {
    "collapsed": true
   },
   "outputs": [],
   "source": [
    "def ftbs(rho0, nt, dt, dx, bc_value, *args):\n",
    "    \"\"\"\n",
    "    Computes the traffic density on the road at a certain time given \n",
    "    the initial traffic density.\n",
    "    \n",
    "    Parameters\n",
    "    ----------\n",
    "    rho0 : numpy.ndarray\n",
    "        The initial car density along the road as a 1D array of floats\n",
    "    nt : integer\n",
    "        The number of time steps to compute\n",
    "    dt : float\n",
    "        The time-step size to integrate\n",
    "    dx : float\n",
    "        The distance between two consecutive locations\n",
    "    bc_value : float\n",
    "        The constant density at the first station.\n",
    "    args : list or tuple\n",
    "        Positional arguments to be passed to the flux function\n",
    "    \n",
    "    Returns\n",
    "    -------\n",
    "    rho_hist : list of numpy.ndarray objects\n",
    "        The history of the car density along the road\n",
    "    \"\"\"\n",
    "    \n",
    "    rho_hist = [rho0.copy()]\n",
    "    rho = rho0.copy()\n",
    "    for n in range(nt):\n",
    "        # compute the flux\n",
    "        F = flux(rho, *args)\n",
    "        \n",
    "        # advance in time\n",
    "        rho[1:] = rho[1:] - dt / dx * (F[1:] - F[:-1])\n",
    "        \n",
    "        # set the left boundary condition\n",
    "        rho[0] = bc_value\n",
    "        \n",
    "        # record the time-step solution\n",
    "        rho_hist.append(rho.copy())\n",
    "        \n",
    "    return rho_hist"
   ]
  },
  {
   "cell_type": "code",
   "execution_count": 30,
   "metadata": {
    "collapsed": true
   },
   "outputs": [],
   "source": [
    "# set time-step size based on CFL limit\n",
    "sigma = 1.0\n",
    "dt = sigma * dx / u_max  # time-step size\n",
    "\n",
    "# compute the traffic density at all time steps\n",
    "rho_hist = ftbs(rho0, nt, dt, dx, rho0[0], u_max, A_val, B_val)"
   ]
  },
  {
   "cell_type": "code",
   "execution_count": 31,
   "metadata": {
    "collapsed": true
   },
   "outputs": [],
   "source": [
    "from matplotlib import animation\n",
    "from IPython.display import HTML"
   ]
  },
  {
   "cell_type": "code",
   "execution_count": 32,
   "metadata": {
    "collapsed": true
   },
   "outputs": [],
   "source": [
    "def update_plot(n, rho_hist):\n",
    "    \"\"\"\n",
    "    Update the line y-data of the Matplotlib figure\n",
    "    \n",
    "    Parameters\n",
    "    ----------\n",
    "    n : integer\n",
    "        The time-step index\n",
    "    rho_hist : list of numpy.ndarray objects\n",
    "        The history of the numerical solution\n",
    "    \"\"\"\n",
    "\n",
    "    fig.suptitle('Time step {:0>2}'.format(n))\n",
    "    line.set_ydata(rho_hist[n])"
   ]
  },
  {
   "cell_type": "code",
   "execution_count": 33,
   "metadata": {},
   "outputs": [
    {
     "data": {
      "text/html": [
       "<video width=\"432\" height=\"288\" controls autoplay loop>\n",
       "  <source type=\"video/mp4\" src=\"data:video/mp4;base64,AAAAHGZ0eXBNNFYgAAACAGlzb21pc28yYXZjMQAAAAhmcmVlAABIwG1kYXQAAAKuBgX//6rcRem9\n",
       "5tlIt5Ys2CDZI+7veDI2NCAtIGNvcmUgMTUyIHIyODUxIGJhMjQ4OTkgLSBILjI2NC9NUEVHLTQg\n",
       "QVZDIGNvZGVjIC0gQ29weWxlZnQgMjAwMy0yMDE3IC0gaHR0cDovL3d3dy52aWRlb2xhbi5vcmcv\n",
       "eDI2NC5odG1sIC0gb3B0aW9uczogY2FiYWM9MSByZWY9MyBkZWJsb2NrPTE6MDowIGFuYWx5c2U9\n",
       "MHgzOjB4MTEzIG1lPWhleCBzdWJtZT03IHBzeT0xIHBzeV9yZD0xLjAwOjAuMDAgbWl4ZWRfcmVm\n",
       "PTEgbWVfcmFuZ2U9MTYgY2hyb21hX21lPTEgdHJlbGxpcz0xIDh4OGRjdD0xIGNxbT0wIGRlYWR6\n",
       "b25lPTIxLDExIGZhc3RfcHNraXA9MSBjaHJvbWFfcXBfb2Zmc2V0PS0yIHRocmVhZHM9NiBsb29r\n",
       "YWhlYWRfdGhyZWFkcz0xIHNsaWNlZF90aHJlYWRzPTAgbnI9MCBkZWNpbWF0ZT0xIGludGVybGFj\n",
       "ZWQ9MCBibHVyYXlfY29tcGF0PTAgY29uc3RyYWluZWRfaW50cmE9MCBiZnJhbWVzPTMgYl9weXJh\n",
       "bWlkPTIgYl9hZGFwdD0xIGJfYmlhcz0wIGRpcmVjdD0xIHdlaWdodGI9MSBvcGVuX2dvcD0wIHdl\n",
       "aWdodHA9MiBrZXlpbnQ9MjUwIGtleWludF9taW49MTAgc2NlbmVjdXQ9NDAgaW50cmFfcmVmcmVz\n",
       "aD0wIHJjX2xvb2thaGVhZD00MCByYz1jcmYgbWJ0cmVlPTEgY3JmPTIzLjAgcWNvbXA9MC42MCBx\n",
       "cG1pbj0wIHFwbWF4PTY5IHFwc3RlcD00IGlwX3JhdGlvPTEuNDAgYXE9MToxLjAwAIAAABFOZYiE\n",
       "ABD//veBvzLLXyK6yXH5530srM885F1+34ow/zAKCIirzisuTbb6Qw4V3lDprbp49UvwREpVKANo\n",
       "EbdWXkFhyFzBYb8RzgDDLIPs+VqxdE2vACDH1YHJq3pZB7A6efWNNg5fdkDU4GraUvPxrGo5tSxq\n",
       "5h9IWXP9Gj8YRHHZt4lumCEMLA52HKvtpvpUZ5btN7o9phHgrLwrPWU3Ov80DdeoJZbG9efxQgTF\n",
       "dz66HhSG/NbeNrt6feUtwD4Rf96Q0GGV88jFM0RVuAWWIyYBDd6yU42Xnuz2TDdWLdxlMRnIGo61\n",
       "wj3Ar3kmIRsjjmuPKaFuKal2J7Sih7n28FrcKvsWZFmdDD/0we+VUWMZ/9Y2M9ce3kogvE4aHc0l\n",
       "MOtLLpkJhcEAqdl77wetf63EoOpM607PHaq6ZiTkQ1TlfrgfyN9zCheN1n+j6fxSZlJEFSwz9PNJ\n",
       "UYVlM5LHmOTspkWHnHXoeAX7tPUC00BGi4NfmpoWm8j5GNIo8yb01x0Z32bWYno8xww61mV5LhXD\n",
       "bbg6DtFmVINqXxfcclRFZj1+ZGJgmBTRy30RvW7Z+C8SvAYsoBa5TwNfn0yJX6a0wHf91IKCk7QG\n",
       "2qFtiM8+OXWo//fyObyjNl/OG6GMTSRZxeF/O20lyfywSg15mG0cKYJzdyBLTOivbmInP3wijcn8\n",
       "xCY50AvNK+qvchP0gsPWDSkokaP8pPA0T9DhOJlXDiZHrvLCp8Lw8DLDNNTk/7Hq8TkdnOU4W0/7\n",
       "/YiGmiuvLoCqXyiNey2ifUk6R9YbYFtRSS9nNUTn+fLFilmEM432rmMG24dXphQZvsf3l3cqssFV\n",
       "LXlRBKCDl8JXarnHhtxnlPuboarOriLlwvBdbyV+2Xexb/Vdhv7VHsNhYdJysrh0hOJcnSeDdzOW\n",
       "ard4MCOjz0E/BJskaIr4+ppamEmOuexU0ttqUDWFPKlAGGPGrZQehlFpLAxOEz/k8GWIXLxZocoB\n",
       "rdY5GgL2s2Kn1IXepYoYgGJAKpX4/n0Zh3xk0hsm+f8KAQMGRRKSvypArJCJsc+mefiWNYL4urw4\n",
       "9SimzLRse51P8audon9vBgHBLUGki//0cOWWdc2uX+74hKA/Yo3qIJfnsbHr4hldZ/kbzEEkBJzV\n",
       "W/omUgGuSmuo6mjbAd0e9Y30uku8lN4KaDATa8Lcdq4IVBc7WBl7O21+3mxKEdbQ32K5zBfR8Uj0\n",
       "0rvpRBt//XZkfGso3N5N/dOYv/E/Y6UpxaryACk8z6RdxZV3pWepI+QLZLf0hpn6MS6cK1YiLACN\n",
       "GZaDhDqql/WSh646DDCmo4dtKeu5xQDvOthP8BeHFex0MNzGUdW+2CRj7vRm5Wl2B/v3ct64Ykbk\n",
       "5UZd82iAJXOpnn+cuNJAhurrOoNVl/PlJ3EctwnBvEJg+pEd8CK6/KV7s5sCfY4raq2NsdsrR73m\n",
       "H44HqLhkSKLh7U54Ulgj23eGPdMLK0hhBa1o0EjKCnIUh5cBgingKMbsQRYkYMuE4ZrDO/07bASw\n",
       "8F8eJVSpS0r1ddnTdVTg08ytRwS1jXn/dFIrfHc720uSZTjwVpOU64ggSUgPRybJca4uVAufvDiW\n",
       "SnxAqjtXBRLcw8207oQeYjkVi/heap2TVrG92pyUXDEVvDTCKR7w/EdAMuL24kebRtBo+5o7xkv+\n",
       "sTeHtSQxMQzFQgb+OpS05WToW5JmuaH7frKpd1d3B6hFusUkUtjKIHAzso03+4X3ul50j8KFYJsG\n",
       "Gqn0wa2Qtu+P/4QEHGjWGXLnfUFAEy1Jnxo2apiCsR1IPQRECbGV7/SNXxOmB9UQFS6LEDm2U+q0\n",
       "bRoq5HnbRe1avTkvRL0s/28VX+8YvmgNF62doizqVBK9tJerVh2suMr69/a9bRGpoup/bVYG5ZY+\n",
       "+CnaMP25Uw4nfqoK15C6La2D6yg/8aJ4jDFDKKytPBeXmL5yUDE9oTeMxsBxkjMHo9kT3+Rwd4PO\n",
       "wED7lKDOJiJHJGMoiSN2UhkUeVb1hcJIg2GhTz+jb+W756LpeuCdA6p7HGr3nYT9BAl/pDeFhe3k\n",
       "KvLk9H8F/miBFVJGnT3dKYoq1gri8OGjmgjRHkLVatisPtXeE9OOyg7Tea4Z263/vxsOE9tgxiNf\n",
       "nR4WFJJe6ZFFS4r0SYu726vDVBR0fqwG688VGsRoj9gGZoY26O9RuwdexnLLaRNgAEXHp+L9I78+\n",
       "2+FmzStmLqiFIYQ+Vm5ikjMsRRsPlOVMVnVkS6sanFYqNPqsbbnz46iRyr/R4szT3yIkDaPMZ4fn\n",
       "/F349a8+glIXHw6Mrvw/RZO+nXK1l9h/B0/Tn+oZUTwerLx/y+J4nOY2+sdsYP45p0YfH6YfvL4X\n",
       "Ox0LssLRLOWnYefd9/8Kx5si6+a8ZbrcUgJ4Np8mH09rQMOJiI5zp+L6ZxzFrVXs8bXISXD57/eu\n",
       "TVfJCLz1B+si3ECm/18tV+r040BtNwcOUMBkjsvVuk/A/wKp//KQFUKJq+4KmMDnQGEm/yGDpTZL\n",
       "X76YFSm+GeuO/JCOwGOPBKqXLIYF1XbfxkPmTCqAN8Ye7KTl6uRl9PU2MJzxNFpTzdoAlvxuvv+N\n",
       "Y+TeBcXAMYpybWKT+rW+b1EK+QOkV9vq82aedHWH6t+Rp3aDxeQwadmgN5YrVIzL4D0hzdnJNNXH\n",
       "1/zT/45gbI9WW1cOoEqwWeK9mTjXvSVMwh2607gZO3TGfUxX0EAetcsFaiDbfcfKQ43nRAeRgVBH\n",
       "hsqb4wr7UlBtnXvHxbjRbxKQYLX2ksIIY225ud7a2PgOGfGWYQi/V7tJaS5RhpYhNHxIkUNUdJAs\n",
       "Yk2szn+sYLq5Fxbd5U/YE1bswSEtBu/uC5MmSTXOOCumFNUM0wiqY/tT+JfzucmJAOAOtJ5xWhsS\n",
       "mv7ijTDE02icPWfDiBNzENgw8ZuHwuDZ5JUyC4RQaQM5sdQpDFP/DbO46k75sDqsh1PP38Ywjbcx\n",
       "2vWs3EYCsUEWWIEHhs9F3CQ8vUsIcMGvb46yT5uITjTnnuNcMIxZXfeaXdLcfnNwcaCQJReAnBv+\n",
       "tNfrTVckbNCK5nOU4htv3772wcK0uBN43DAIIOB1wxlG6zdl6YT2tVTCG5UYNoiFMhPeUIrNiO5m\n",
       "POGw00b8r2aR4hk4g7F3/TTGV8UfJckP94KN9jA7QN+CEnDJXA/L/AJFpet6FVPdadpaJv8nT6KY\n",
       "+7XwZegQ7qewfPnvXSb1Krfj0zw6o4DEmdZvxnYR3aSRAyimVbZq41wsAVv5GdpxNSsvSdlqsfMt\n",
       "8aMPS/OfbjwU5rROk89+5OPZkkQLeZuzHvp76oYDwAp5x9YsZaLQkE+LY9QOjzALFHkPSpfxs1Hq\n",
       "6JfN2HgFf6HPQ6rTpQE6DQwD9oF9eVIUQC1K+CK9xAVNKfwGNRtAcCdP5QR5Th0RRsHFfftPA4+P\n",
       "VdVUbyaW48edaMaIbKR4VQU/ZSgQXbaYfgHC/szx+3NVc9MDCYJ7hffhfHvCUWKE69G2jKmqoxky\n",
       "Azr3rgTVIpSzXhr3gbLp5X8zPVf9z4Sz1ETF6CWxvPvdtp0h4yDEOwdP4fSNSdbSsCAZw/LEyHZf\n",
       "YVsafFh432kcxbJ33nHdsCY7ZTpcUkYWQh4aHgE2KtoWgP+Dj5oNvUF05rsrrHp5zIeg2YFCRxXL\n",
       "JI7Xx4wupjueikvSZC5CTOPYFQkYURSteClQQH3e/7hXV2x1/nW5SQSuDLoqPhgQUJzisF3wyKCV\n",
       "bHKm22eqY1NBw1mZqtUa8qLrKnDvlK1ot2QYQjAyP7WfGu5JfAXnL1apkLhwJ3G+rOm/v3MUf7dT\n",
       "A4zwyhyrOMjKVkktnpjTdzcpko2Cwv+bHnH/WcM537jF3Ul2biQQIb4Iu5XEAHqcN6CYZNT6IQ8O\n",
       "zHXADKTum5UWc7N0W7nF+MYdaojnS75pVjmdaEpL2chfWLya2643kex7DSydRTzl4ziyEmQRYABu\n",
       "Eqc2K1dEfWmazevNJrB6CmFt3U0B8i7LA6nsObzMI39VK7pOB7RHGlRlUbeu+RGir/Hx3UfAg2a9\n",
       "TjW739u5nY/QuRr/m8TlvHVXadlqu9VeDHiTeIFZ94JN1ERZWAsZfuNf5PEfi6y9IKT6IhnUd5TU\n",
       "XGOeTt5ZVYHczxAqayVgnfX7CYUJ4FKHdXNkBVq+QmA8vIJxr+HaPijvaFwgsWF/2lh4/Xw4mtvg\n",
       "tLQ0B1tLPs+qsuWI0JehW/bS0VgftXa/Nd0qNWMcu1ImkBmObyxR2QUdYV03JP94Zith76lciJXl\n",
       "MySEJty1iE1ba7xcThQWCVGbHbXYPSnHihFM3CEBkWHYxAdo3nmM7qxK2/jBISq0YnQ0IIKOfcbR\n",
       "i9cf3OzKM8eO9y3a5rwEnOarq6V2AC122EN9eY+6SNQJRxvIcSfRdCro4wpis6X6S7tB+SVjie74\n",
       "g+WWpooq+nbHFheeCK7kHuCQEGdeOdwiFDVYYJJWe2+85HAAA3dhhfJ4Qr0G6GNQ/oPBHnd4UKKK\n",
       "75b8JwsBkWKGyvey1eLz45bSeA+noVm9lI+eQZNQ6p8Ld/tpV/+DB0byjOnpi48WtEUIWlEhrhep\n",
       "y9FLDbQFY87Y65ISD4dF+ylamOo9c004dJIPki38dNN/MfoXXEIVIFfRtR3eXwSrYUf9xvTjgP7p\n",
       "LQNUjRGmZR/kkCcRx8MqzDBB69aRn2ItyXxzXJ/re3y5UAULM86kHtZ0rrOEbbeg+DyNj3o/oJ5p\n",
       "Q3i6rjufsG3aGunAH4c8SkkrUGf73qrv2K1gi/xAFXuPhvXCP+YzX9uNC7VQXSMWFz941MPdv4Cq\n",
       "ves6YiHfzdmdkmfMil1m2pfLpUMAbZZbn8QYtJRSz2UX05Z3lgic6kiTsFi6UjlQ1OcAd7a5wcmT\n",
       "VjslcJeYB+1ozfE44OKF0TAR/II6CrcGAYe3Zwh9z1dYXm+UDxSpVEL2QpGHC6ViX9YLjoPhEli/\n",
       "Htptw6oz7LvD6yfxNjXkpoJBRwmj6lQubQ188gfKRauOJcrLFn5Lg79zPBsOC+TTGCH6KQe5FA+i\n",
       "2L7XjyCHCqFFHuDwqygD40AFo1Ur7PjdiiS90bW0U4yjFHTv8oUa2OX9OJ3gE9N9BteaGr6IWps4\n",
       "QXeV/L5t9VbwZPqId1XTY1niDhHpCN9CaNpjx2kEq2tYTG+5qblONtcL7GmVe/KnIHNse2YAmVQJ\n",
       "r4C2rJMuNhd6IZHI8yLhrraCtQUtdVpZ6H73gJrwpaGy9o9567P8T1izFKNSvD2TM/sukYGjLO2q\n",
       "35KW2oqPPMsqD70ooqk9qQ5MhdjaOGjDbhX646N38NRKUC5PtFU3QcCVbjeZMtCaP+RxStfADoyE\n",
       "46Ovzi500gDAHbBCC1Cwl9IX0Nm4jy70XYgUQYhhGOlgsB1G5b/FKnIqTmEso7jI15D0AWvTcNBp\n",
       "t1/+dXgmm0YmbxuwQyxzexTyvrcDUBSPH+r3aLHL66NRhC9Sy/6G6fyAabLSgOW2VCsstu+2NZ3d\n",
       "FEVhFm6ejO3jd4SwEuJM1RK+/FzTWPAmXg3Q49S8iUcDVsmh0V3bmp0JBVN+QJbeABE3XYUds3Cj\n",
       "TKPWwGkO80cRhnNdg1BMBAVUvABpPNsTQa+aCfDRZ5kSWzDOwNR0f5XDB/7+RyyocF3pPwB9VxRV\n",
       "98msmBA3ygAApGgJQR8P4yOUIlbYzHBbxWc5V5ZLvBgMf7jv4N3oxnzEypT+fXcKqvsmuzVwXljd\n",
       "GCE0ohyo0mQ1XpcnrHPXKSehYi963CXBkUNpVLC/E1m6Akcda4o7XB9KEs/M0NDda1q/mpYAc7Uh\n",
       "UNl0UxeY/bPiDByM962VeTk+/ioskySJlmS9cLuMnfOXaoOjZ6ynG+RMlk0RiRPp2K+bfxlm4RdW\n",
       "9O0NP8xdP8j1i2B1PBup2ICsmpm99MHcbcNidiPC56FmgIAABp0AAANqQZoibEEP/qpijsgABejc\n",
       "wpu+0V6s3MJgbMGiDfX4D40ovx9WmPcvkxcaPkT7k/9Py/szKfocGaBOIQNAEC8xvCpWC8BqyxVx\n",
       "rVCSxnX6wHnSx/x1nIbQBEmmnKb46g06wM12YoWLFwb5nXfNbOWS8bNlCPobNFzgPBGaxCIKmP+7\n",
       "coznoz0n/55nzieQkMwyNUKEzd7By6EIdZb/HdQk10tICrngEeb99tjfuD3/Gws1D9FI4n5ZZ8n4\n",
       "AlHYUCouZHHsfuzBuqfnkxaqhzEgzq1bME/ZRlmdHFLDFEdzf7UJ8I08MvBDu6HNemZTc1WVBXm5\n",
       "WjYpuEO01JqVsloK3EnyfXZmFlfKFyBYK45hqh/7VrR/XedN34V0y+gqTVYTBul+ft3f9kq9fCau\n",
       "/bblUBKWUq0h3kV8FZIebee5X2rulXEaVni0lC8nR9nX3P2Z++O5tEPZQ7x1aE3gtawQHZ7JTwnh\n",
       "/iaGd2r9Xg3cGjPGKPXc7GIB3c//N8hDwadpdaN1Jnwy8qawEmSms2xGzD18I7PICyN4xtY20/n8\n",
       "5N+5jVdOzHrY6ApieSCnNqNIqHr+iK6kMBeYRnv0itszHcXynvf8uQFuNAewIVBnwxkWfpodbcYT\n",
       "kTYeQFHmzST05rUrz/u5ki3atfLBWWKG6i6DNJkUpTS14nYM12s7aLB0ZKQJgtWt4At8wzZ4jMpP\n",
       "zvePl54ekcy2kd2Bja/qBiZvSFb9Zk5WFokPige6t9eCN0Rr2iNpK0TMAoblsv+CQSN8A2ZlvALG\n",
       "jKRqvO505cFjB7zaF3uORIFmtz8icdveur6u8L8l/M0jkUu7k2A/Y6KSck1N9R3T3bCIVgtJPUaw\n",
       "lyk+6BbWjSrCxYfxF0dkKgYo7h0E6gjdajkshjgaOvbw4Gkyu8jL0dtKoZ3kARpNJsyYJDY3hkLr\n",
       "GL50JV6jRKt/uxdM3GmH03MWdrAADKpImYW2l1CQAEisGQFHyGOTYFHFo/3R+Zf8Vbn+K+eRWiqG\n",
       "O0PA7Lzb7HWiCio8aflPgctaem/bQMp7dQ7w7WPwIzkm0cIKltei+kriOmJYfEua5/oanKWpMA2v\n",
       "lP4QHxjEXZyIWfAUkNd+AnpbpwbiBye4DSS2WjK+BGH/ab+U5tthT54Fi3KiIyL+e3KvgAZxaaTa\n",
       "j4gK4AAAAToBnkF5Df8GrOCTvNEAIU+AAYPnZroDQKW9S6LIm0WL0AB1jUTO1DwiE5onGkG/IT4b\n",
       "ZXRyfrcb0cJeLoJryZlTb1jkvsnZ1c5D1IbzCGQgH42srCWJex1sFF1pWtoleR+XJLQNIqbkiiwN\n",
       "SqN1pM0Ihv6f12pvypYL+7bPQMT9uDaCZdnMVoqqioPCG2oAiADHStzWOkTuqa77WjgdC4dqnHIs\n",
       "QwfRX4Xoxl4DTte3O8v3eeoouiyn4aORPYResoKKlFNTUpPXbzQ4aRqp3hoZV0Sk0yIEn7IleLOc\n",
       "Oq/6/2BVDmZ27upCYeE00rIjpouM7q4ft123jwP2xslIkOCEx+XFiTE4eJ5TL4YNExIjm1OOvJqq\n",
       "/4wRS5Im0KZiwCXy/saZQsJyyqVHbFCJFXL7cgfgT6wKmTI8JwAAAoFBmkM8IZMphBD//qpXhQzA\n",
       "AP6QA/hlHrU2RaLesjLgCZ1VQdTDC2rwZLPTDu3ZvaYuyU6GMKzWEMpAvEXoR4ijbcnGoV+FMQHe\n",
       "eecW2IM1N3sCOx2zXgLyUfLtqg+DhbjRJqLdc6VJWcqYecQ30p4V2MaRLL+FD9P94oNluxBqNxVt\n",
       "6bf/imoA3+07JTpAjkKTT/xuCJNZ+H1SjxFY4E7k5Ck0NI62plGyD+4mB+kmCaJofdnwqgEW/9CI\n",
       "XSn8RViF0ImJEsj34lVLxZXiyrmeOKnOJMQfkhtqSqtzO9/JGgf4DpVM3rNTLlWur3EFmdU8GxyE\n",
       "VJ6QRVgVBjyA6FZWbDrQ8e6CJtY/nDUpRQIxo3dXag+jkPnUobYR6fJ5ngMxX2CmrDnQ3SFk0WU6\n",
       "gknTn7JiJkrTSgvxJTbXK1Q8ORQR+cySqAggAjH3nFylbY1xzTFSi6R+bqtn7K9EZeCLY2LrQnfG\n",
       "PgCwmVQf4n9VtPwZGvNuVLicaND5O8ficEzsR8FgeBucaUPq988wvUUi30A1onotNGWdgUbRmaHG\n",
       "GAC2zAKEc5gHpLwxaJnTr2SeCW4Ggb3UsXoH6LDsY3Zhjst881vQxcPXDuGSOpu0VVP4Bfkw0dEL\n",
       "Xx0wmNRPhp0Ca99IQ/6pvYv+6R7MpIg317EvKuMd21pqL5zvzE+wzARUKo6fhKHEnByf4LvLe6dr\n",
       "9hCcv2OIIlsyQZsA3XrXZ+1dSHP/SY8RfVckhPIiLQeEC+WaFP40+64hc/V/MMBtzV0gQcUucCyB\n",
       "n4bBZSQMKO3YJHH2Ju2kPqsLnhPhCjMeucmIOK1yvCVeXuKc0svfS1keTWcJU8cR7S/mqqP6sAAA\n",
       "AtRBmmVJ4Q8mUwU8EP/+qleFDMAA2qY+NPIv1d2zFQD9BGNPr6OwPnsvNM95O4Nan1fq7DBczbTw\n",
       "q8me9/AkpDZmWRKd4rogN9/fVNHqAe9+CkBYVlLCl1gfXUlyBn84XjASEeTOiT4ZzU4OyGTgFUFN\n",
       "Vje7ACvoPJvvrZXh1ZCpY9qmUwizH/nPAhjiIvvQbuMz7EgKUS+1XkstpKx98pY1k/VQTMMM12EM\n",
       "nDDgghTc3xKHK+lMyEMjHTwizEiWqEvDYZXve1FMRv95r1iyZt9zEwNIbxnAAwwCY2PKDpMDbWfx\n",
       "uTdvnPvFG2GHPySlLl90jIIpWm9lleHIphDq4J5b1+5Z2eEoQW39bANIAs8sB27N7J6qE/ni+hbW\n",
       "/ix+nlMPcsiq/hxK1RBZGYxLk9xk4m6e8vqHQoM0e4iKMs5uan/2iDiF1tC+vSAZyfS9pVCk7kRX\n",
       "st/N5Wu2R4vFyA9qtxrnbV+4Z5Gq5O7b7xWBpkjiOR2rALWuI/yHMmgtg+B4w/gOK9ll0pjTNlVC\n",
       "iUo/B3S02W8ja48z0MpjBbk4tKP2HY/44Ds2JtvSLK9PL1lBVbZA4448J+OV+53PkJIjN4SqL1uA\n",
       "nLVU92Bw7sC36fcCV+biDNvkkiGO/KbacdkzWXiNQNrn6VuIxVaelMohEGY2Ojx6sNotybLOKm9k\n",
       "OLYUEcihNzYalfTfdilDh7hdZbKiC/n0VnpQWcVVNUuv0oOGD8axO3j5V68UPkjPAqT+SoZWwhcO\n",
       "rHEz6ddkt1N5uXbUSy0A9+IyD1J9JimqgPW+drU6M6CuE7cIRWM/Zozh6Pc3PCq2VX8KEmTV/d+4\n",
       "MX08hy3phttuOlki/EthGuX7gE8vM9978R5DvqzdjNhBlUfwvZ4jjsJKpNKTtgFMrb98zk39t3aj\n",
       "76D8sZJzdmGFbPEn0Q/bTDOfwOmfTvQ95sESyTQWQIPqIkhe6ggNQwQRAAABLAGehGpDfwdLPCIA\n",
       "OctOc9ITZ9fSK64128Gi8Pn08+vVJR0xZC007ifpjMQfggQBw9HK9KnkUoZJbdOJpmG54sOz+hdI\n",
       "dRJd4FWrL3+rgEAXo88Or7bc3FDaUvXJPleQK8kvnslEbH47BVrjszhQhHv6+DkzOpj2Ko8ST9fn\n",
       "vM9aXHincyEvhAwbSze25Um41/+UtXmDeH18dklddtUEU/WgFFImf+beMFB0Zpjj0P/8WGwqkZ5Q\n",
       "5QapanwAR/68tdnbbavOKDtT/9nbW01Fpzib0SF2MtnglfLAfwvBn8tjGh/6bl87X8Le+YtGy4Zw\n",
       "8zf25A7AAFpNOa1yTPTafR+j09e6UlHFAqsy0Sa21+mfBPQ4IfUu1io6Ii7+2fC5OGj6MnWtJXwu\n",
       "5ySz4QAAAtdBmodJ4Q8mUwU8EP/+qleKFRgAHOIYVSw6sF7hfW14VlIoFaxE4HfTNBlwUP9Auvkt\n",
       "521ivzJW4IbCtszOepxlGnAFpFcmNS+Y5y5zSAATo5+UCK6RtaT8EyRcYMZ1x0UKOznnx+i179Hx\n",
       "IddipvUllcUfXaBtENoBNXkqfFPjIYVSNqN/BlsXq3fElz9/W/XS3zSfZUYgGXw8curCXW0XOXpK\n",
       "ODPc3NwKRbgUYuCl1l54yRTvGcDEeCho/sT+I9y2Jx+v9KAPxSEn1sFxbxfv06cKYIIKqah2wija\n",
       "kU8KaOrc1RYAvv3GD4zcpdF0sIC/8aaueDwXWnfV99W8TEZH31HG9x7ci1UzP+N3RvmHYQ5eItRd\n",
       "t/J+DZaJb8DN8WDlZ10/SbMYSh/m8uEDDXZOPWeHFrKPwV351t9Vn8NskkZgj69WjoZs3GrCUql0\n",
       "xAX/B9u4cOkDWgxf4ygRh7nIK22YWG3UiO/nr1t7UQ98LdhUnudx2nTrDqpLlzI3OCfWvN6guJh6\n",
       "GsrDyJdJrWnVLbp/56eSa7BGdl41MakdZaIwGn8LYnAlegnFLpGjCLcMK0r5dmwzXebgBE2ynbZr\n",
       "Kuf3mazTIhDs0EMsTG430bLDMvMI/g6zhNgMpQh5TdgkjSnzKi1DdGwD7zUuIL/RHM1uQ/yDEoJG\n",
       "Agi8/KG9vcKcmIoNqGiKQYeyoW99eeKgA3aBIDTrlHnuAl6R7PjtrS+Qcdluim/c1pB1IpKXx3Cf\n",
       "bMla3rUKD4L0ZLz+a0S9BFBfr4bdw/6CXRHuv4A20MyZppcSMPx3q1NYurh7MCyZ78eTL3fDRooY\n",
       "rmSjUsnVTBcych7DNvGC/Ol5nq5mWeFjeLsgguN6ARU69Lg+KpYtcPa0CyTB08ghKPeng0huX65+\n",
       "SpxqxK8oVx9jmBN8Rjck1HtJR/ufb//S3w+abJ87Rx6nEUAzlfNC+XNbgwn/fVPrDBvTAAABAgGe\n",
       "pmpDfwco3E8AHOXEn6sRwJOHLK6TX+R1CidVNLOZFUOb9+hwcRcX8GkWZv5BRiv+wOQUqIb9NC41\n",
       "1M4hSmpKl+fOCrpYeUM0vr20JLwCdVeAUFb6a3z+rxs/BN3HfGTzOZPvoeGgvkihrYJRFRT8TJKb\n",
       "t9puzf6PXyeQuHGXBAintmcUwDT3ic8I95siFg1sofT7ZWHM0C44yI9l5UIkFTw9KL8Es4ONUBZS\n",
       "lcUpLZmoL2sTutAEGF4+1QBXVl5xyV8JSt/KqLcmVndf8yVVQaQfnaghtLs7wwUIKr2mbUKg/V9H\n",
       "Kuf4xDH2h1FL0WIluPhpTWoCXyTcJDVTedakrwAAAhRBmqhJ4Q8mUwIIf/6qV4oVGAAZd8uGjVIa\n",
       "ek44Z/yREWb9Lmku+4ctdvhMWZK7MVcA/rDu6xvYhjgIHV33hg7PPI12gUzoMfz+sLK5+FOqPzn/\n",
       "0WbzmTk5vh7T0udPfigyff4IGqZt13dxS9HVzBPf1idHWHT//+mQKTq4I8VW28ueACSwamHYoOlP\n",
       "Noc+vSykBtypaRtMJeL7n7SWnl4x2enWyTkR+//8NNFSa45Abg8VXDcOvc04rtsnlWjKqqm+jfLS\n",
       "Cmyjjotuj6DF6XSOEHA0kAxEcYWY1p9GZW3WK8hDOGNAkc+il0cKuWWnonxco5UAMt8/ZbdoLcvf\n",
       "YTtBHcJR8l6UTEnCIICoxWJSwEoH7BnVr/NoCO1+IG+PNbD5u3mezkLOiDOjxizj0govwD8XC5RP\n",
       "DzAIUeM60IpfgNlZH9LpYBrNp93d7W0Oa8KPm+pAxXJIOGnpRe4g/isS1Fs39gn2IEhG1TN0bIMe\n",
       "22gDqdEzVsae/xj/Kpu23NXeQMXu4iW/cDW9UkoOeOOVnjyggsBcKS2qxmAXu+v5xrXiiwsv2GzH\n",
       "ar7atFXV1xjSF9/5XvCyqUuB3mOpDk2hXYCK++wMMV+5HdkePDklNze/CAdFi2zfdEKkJVEBTzYG\n",
       "Bt3zgabU36lxBOeXbsVdsPk+MLdMQRH3/OJShQ1rVtgqnLsKC/tCKWNmzueDnceOI6gQAAADPUGa\n",
       "y0nhDyZTAgh//qpZPiG7jQQIReokuogAusPC/uyQIghxl2wj4e+BU8X5KKzIPd7maHgFy8A8D274\n",
       "42uITopuOVxNVrlKpMIHcdVSSHfV5Q2sEjYlk4aJGg2K4RFyT9eujQxj7wH7WgGE9aLJ8QWv0nAH\n",
       "uzlbPswnKnBBGf/7ZguvXZrQ9255MCMk1NuStIMmEtZ4hvCMqf+BWH8c52v45EIy60hhXM68Gvvh\n",
       "yEbfP1pF+O11PhXYXbfSPIBHVWSvd6hO6IS+TQz6ivheu+EgAI74eer42k5acLSzVvxDGSlyeZz4\n",
       "PD2ZjXU5iT+1eHy5OKRyxKPPaiJ9SZgmfxT//IyLbI+VNGORKlbnUCtw4BGymNB8PHLkP0kgspAa\n",
       "+AOkd8Vc2iefcm+TbdhzqDryRXqxGi4wRHKH1qcFhJOZZc4xT9LY7w8ELegjR3HHfvGfClrYRwy7\n",
       "m4Hz/HdG1Iy+oG4KNcHXqVKPFPm4bf48IFVfZq3ZJ/IjKfVErrVxxlsznbpOu+rz8wtytRfbbEEf\n",
       "ZEFbMuJrTBtkvbIJB+6AxwvpzO8EvpomgWpTYtVTQcNGxRGwzm0rCXBRSNyPh3S7k0eDx9Luyjx/\n",
       "1gvDUEhdgojVPwIwIjRBEQWwi6O3TU5mK5tYo5CKDDGQcfbFcPfQNkd6JNuCASgZ0treyEpCMZpo\n",
       "ckr6EcsagT70mxY8pj6DJFU9pomHn8ort3djahE7RJSwXJuXxPT2WBPQMJg1p6fh0lhlgKGKrlT5\n",
       "l4DfJS6XJ0crE1ZUz8Ry1ZKAFyYJXziT2tJzDDN8+T6IR/mTgmE40aSKsLf8bipxl6zZ8r8h/9Qr\n",
       "XRd6jlOOWESw52P3xAUvJNqJlPLlMgQWfWhZSV2QBkDa9vJ9b+e7+OtKLOwgC1O4LhRm5o25CHAw\n",
       "0jxifUqfmY8KbS8aBbrh4mk/6A8ThTaxpEeMtYLD+uHOIOuPock5yunlEJdOO0u2b2y0BMsTdnUz\n",
       "I9YxfxfhJElyvvHVbv+fbJNa0lo4u456Vl8nlvJ2P8rZyAlf+Xbon3v9GSv73wXcJPFaCtX3G7KA\n",
       "8vjqj8Cx1pZ8PCCdme0fqvT5W4e1akDcp0w2T6QAAAETQZ7pRRE8N/8IbhiRggAHXGASwOY8KpyW\n",
       "NKA6+mTqAskHosLI8u5TqOqYH8S6zy8+idS/stVAhLhZfHbVZ+xmn/FlNCrGMS5cr3JYs+NDsu1r\n",
       "zZId5aps83AzaLpVB6I7+kR6hNYmj3LWC3PRtsowqN0KfFgySUmtfh/6roGpzDF5ENKUHHIL10rO\n",
       "dcN9XA3G8aZiO7iH3rfb1WSEGYmCwCPBQB21NQgTnr7XRyowxhwRTYhAKsN7eKzQcDnTWQbYVmP0\n",
       "toE5aFPdOgkUj+dKcgl3U/VFHgbmDcIDAwVRQSVD7Xf5+CQ/2oRnBGpJIys6Gcw2vQCtTAf/T3jy\n",
       "eFkc0duuD3r5LZeRF10Q09EHaJt8pvUAAADtAZ8KakN/CGfL39xSnqprVqAEKZ+QQQ/+8B4xeINR\n",
       "Rba7VE7YXjUXTQl0B5T7I9VGZkO4k2uWWpQVJDXFnijYr/4QV30TADoTuv2T1yEwa9LrZ5+AhAHc\n",
       "Rjpv6OCktRVV3w6d1P44QvOopztZcvOBe1jy4JOtrHJ+Kt0g80vo3ZfwIGUnRdT1sQ0jukBDCOek\n",
       "cXTM+wrjYf73WDqpQwJtFIU1xrupc1PRfgb7yVtDVHxiC+2x2VVL7EMxxR7aSvMTdJnu5lRmgNu1\n",
       "OXnKJtYPqpFLsYSL5CRkoNIFiEdCkyNetjLUs4TeIekLwAccAAACgkGbDUmoQWiZTBTwQ//+qld9\n",
       "OyYS8oAJyzGjKAK9msWESfbcADXRVEbu9Nppv4a9gYehM99MWcPkRO4xQJc1LpgBG8SEJlQPfIKd\n",
       "CwDXD24ieeqwfGAo9JEindM5b+p9mxWaJpdRs8zGwx/TWOqm/yNRfDY9WC6fXn/64t6TZj4kXKLG\n",
       "PntxWGHg94xYdL1c8ktqARrmE/DohvwaJo6bShywsOQqBlPiZ7MYTmApCzMrSXDqp5HK6lWCltjL\n",
       "h1XDtDxqtxfbE7bRBV7Pglwn7KxiSjqSSzsxrMQ8tfiLXhG//hcYzna5UoiWGa0qskoV2hLqJoyK\n",
       "DV5sLmm9a5dvIaM4kW6uvHye1AbHpdddxOZ1ONsVOxNFQP0ZMtwmmtOu8zwYEQA5wMKmpzusACmj\n",
       "nkP8DePacUiqRpUoZGhpuehdrRHBQRDNGuHKhGLbI3dC2evB0QDtRvzDj1rVXgcu3ijyNQUeJ9nA\n",
       "s3NzaUa9soDZZuWyV9YUX/v8tFKvZcs3nSPIaXi42HZbblyVnb1YlJ8aOCIMpdQEGoVZW4JgvlDE\n",
       "JolglUkjOlsGv6GLDMI67EKiyJZ1bdt3QguzRAv+XYktaam/tLwdp2jxZPFTd5DyW5nUbnp8q97P\n",
       "vsVSgqQsLdhOpw68yb/8aZl2FWNo45YS+Wj9EbqF+nvd6+TUQZQtWrMVRxnlvWoU7wiA+heAcVU+\n",
       "hiVBDdpNuZjKjXYD4DCmskIWwIyR7qhmb3PmMgysZqSKsL7N2Y3OeEgozCRo+GjzUpyRddFTMKTA\n",
       "euiY6qo3mOQuJPoww2W/jzBQSW9LZvnDSe0rOv7tqffd4YY6j+OFaw3UZG8k2shYP+B8cbaMoAAA\n",
       "APoBnyxqQ38GrOGvVV24gA1mStN8oTdf/kRaJxSI34t63gnGWdC0ZAOo5aThLRu4dZgm4Hl3x5Vs\n",
       "XQYi9feIqSey3XoK6bOkUB7Kx2wi2qcQ7E6A0yBjSL9yMdcX9rTD46VNP3CETL+IdtmbCg2V9S6v\n",
       "vqvnDIh9k9+s9HQNPcsw1RFxnL5uVCVrJiXOa0DWfPTf0PPVBsAL1BO/iao43Y98nzXL/Pdt96+b\n",
       "23wmPt51dDgxi9dqRV3aUJyplneefKKJ1tJqKYKhYddZiev5Jqyff+vcUmGRRwFMANzW40sadRQm\n",
       "nJZQM/lfBjDtSAV61QUBzw8jdfWpkPmBAAAC/EGbMEnhClJlMCCH//6qV4i2lABEBYSpA25fwS0i\n",
       "SuMRw6o9atnmNX0qgpRF0robW+SnsYN4g13idMtBLOxiwvfHy2g35AMOvVFzQsv6CCfmS2FTCwKJ\n",
       "goZ2KG5HYmc7U2SGXyCOh4KXbdXeigsechDVEhqIQs0c53XK2ZcJwMOQ9ov1jnRRntVY8jhrmn4w\n",
       "zg/6xLKM0OZHP6Ln+N7L7fkNiA//UsSUqX+CyE6pkEHGSDLUUQorxNNfdMNnRgenpVe6CKFyrgoc\n",
       "6kEw7nagR/0Z+7Z6u9R7M1V+jP+3TRbyyL7KG1Zxquxn3nwXwKU89whwJK8JwMN5gzu5w2wGr7fP\n",
       "K4C14B+JYuGgPeZFWm/HdyTtZzXjlLVMPiZrYbuVGCK1WvJ8cfCGtCGG549uyau55H8rDdBZAUjP\n",
       "uz10PBXrrECTfNVEyrSAKrb1+bPM66oEsAf8eJ4dnaZzths2/8wR8jWg7T/xkA3cYPaTyfeSFHEJ\n",
       "T6q+cVrFiwhEC5/QsAzwuOi32F8mtU5FKcAxILfT1mMwvacCSP/IY+fh68s0o3RZUynT717JNgIh\n",
       "ZBPeC3JUVyUyI+zH0AUv853EPLImJjwpY0/18VrwlyeGA48LQEBY5YanvyiWvPO9biGAzUuLDpzE\n",
       "56AFNlBmEEWaQIMCQBmiwrecFdpuEAfB9iT2qGWe34TE97epNlZGe/CYKKdQZH5H476deaDOcDQu\n",
       "ksLK5RGr5Ky4Mfnq6pyl/D5yn62/h9BmdELISysF8/Rw9tJrcdjiHz6r4RWLPlvKsykcjSTqrliJ\n",
       "o5TYU4J3BxIWJd54lzUeZ2bWcQdM0+cVdGCEi/Tdc47ofdEvFvL4tWlzl5YUWIdS+4geB4bEI9sH\n",
       "DpHt0tUfiLRF5WlY+r03wpdlQ5L/6/GKxYkjF6S2aEAUP+ieWHprXWzdR47Zqa18Lh8b8DJP2zQN\n",
       "mLCBsOU4f+4ymWpKk1sWRC0Ic8BYBpsqK2Q8eUUkRoHwlgQCt9hlRe7+SU/+y515H8/5AAABKkGf\n",
       "TkU0TDf/BzJC58UQAJyQnrqHxXhN12jBxkVspJxqNXSvVtx2EDHOynbLymgAcAuSMzTqPFQMWxah\n",
       "lfO6C2tT29QUCpN/C+kY1t5a4CLEEO9CjP4VdiUPS/stz4ad2Tfn0tsvlV5N1N1sZeVodOvx3Dyp\n",
       "ArB4shWB5EEpd+yB+iH40FwiK2qS45oBeeMDGHOau32NgKE2q/+qVZNfKV0M5DkY2Yqcm/glLMoW\n",
       "75ReeI6sYRaH+AJqU9ffM+OwLzmvuDr2YFRtrH4ml/2BNQGafYalTabJYsCdh9aBdP5SgASpitsT\n",
       "Exh2oreUuJzMsajfRUAAARYpy4AS8wnVxZAzABFWo0m9t4r8YoDSUz6mgN8E67hrbnhd2MLmbGN9\n",
       "6/ZOUPHy+BxsfMEAAAECAZ9vakN/ByZyCh4AQoideU1hQAZ/a6xX6W9+YDZl+WaAeI8DEkNlRlyX\n",
       "iPPTZgHY6JQx3wveQrArAV00UE1zif2etMZuyO/dacgfhXAVllBOkywuL9WlGQ/tEA4dC6LHOc1E\n",
       "5MO8R4cUxfPZ8TlLfoz15zv8SoRzRsdzKDjgm8zdZ38HvY6gOyRFt9oyY7nGiHktEiFBfk76zlH1\n",
       "WQPCPga1RtL5r8W3HaPpPpCFwDAibFEvWOo+QTb8J3YG2k6BN65n4UYQsXCwsZ9Z37BM/semvI0H\n",
       "X/WEXz5h19r/jus1MjQFOqV3mDoH99BaK9UVPsftEzH8AfnYD3DSVFrx4NmAAAACLEGbckmoQWiZ\n",
       "TBTwQ//+qld9Oy6B6wADm6CMdNAa7v3u7VyJvmpccJ4N2udc3BBH+EFH3TpxTYibKAbD7tgFjerk\n",
       "cwS8qwepjlAc1GcouIVSrF1t/67F41r+nauXZfB8sLqTvur+s+eSowcYAwLiLJeNIUVtnXrNg5w/\n",
       "0CVvxntAtPD8i4GRmKeGIJF+px70vAPsS2XrVKqHZG5n9J6rdWNF8i1QWpYDkq6opo5OSJFArQyy\n",
       "k7TcKrKQdJaoEuEUMWrdCuMCJ/TFeAyzhTee9g7b/3gLEnSqnNUo+/eYJx0Aa2vTE5GwBsmTppGo\n",
       "u3wJKzY0L2MqMw9RFg80b3QhCcoISTAsHA/riAQENEld+aRozIB2Z48wkjsqyYvb2w83n6xb7zJV\n",
       "vMBbFly6z4bQHmWxCGtG5d2K5ZBWBlOMdts7u7Wj3gDhm+LqYqd4gNUnywuRO2oS/GVsGspeWH3z\n",
       "w3BPqy4ART4KBgoLT5/lkeqpYSi1tsm9eHGsTdzTI05er+09qLVu6PucF8yMwvDdPrjIOazIDEhx\n",
       "1yS0s8uJJPMEqLPOguXofXSPunOZSihanMnqEVEM4mUnOQEFivj/O0fBRnLI//hNvXBzdTmk7+wa\n",
       "lAv7/m+eo9reDFbrfhILy11U7R5zJZn1RyNbYYjyxPLe9ehirZ841D61AUggJtTfJWKkPd+vSUfS\n",
       "iL99E1pfT7uEhNG/aaYpqRO9fyT+aRtFxmWncmsykDFFAf4AAADiAZ+RakN/Bq0jf6CfmoABEEOQ\n",
       "DQ/8Nv6gK59/RG1Y37BMsJTWCdGNU6aoyxGMFR/mtx1mz5ktnFiGt0jkFOfy8FFLrGjZiMWLxS0C\n",
       "dgSoCx4IGxhb7/Gs9Ipou3wF399b91lCDUcXS0dlo/Lf1n3lGgoYNe+HMmx8ZeaJ3EG+8gJ8Iu/0\n",
       "dehsY5KIh4QecrYzJArOw8FHfEwsUJns+9TXrszxDxL93+xkG5tgCsGPy59WDCQ1yHBpX66lTkD+\n",
       "eaS+Bffbyh96+pWEyvAaI8S+xyLtZovFqyUiA4Y3T83YWCuz2wAAAtJBm5RJ4QpSZTBSwQ/+qlke\n",
       "jUAEfItRBo64gAMMqbemh+0IzqN4JKvXyFjyZyHn/CUnx2EQDyEzg5vVnxde00omh7pFDDKsSiGp\n",
       "btm08aiAHWS4c19HSWnz1kt5tvceV05wwv9LiGnb8plpa4FMvusIM8UZ+ekVLm8IjsSmXGQ49zaf\n",
       "yfgBLhYDPBhywFT1TPvmwue5v5TP9v6NQE9uGNHgLdTtnAVgFivZzKKSP5gAJdi4lQA+rnsOc52D\n",
       "+fii5FnaYXDMAMbDJgtMAEQXjOuKpgRW/Z7LBuyLy4n0SPnTnhZBGqA7794N0mt3NLHm6PP4u3d/\n",
       "OnW31eXn8veRA5yXqk9oj6uQNIXfWeTbshLTDy6R4QrSihnpwUmOyXtNZvpFmva5NuasDKF57vc8\n",
       "neAeMG7r3t82fdhSK4PDDBEURBRTTfFejxSu/ZVqN+ZTRiwmgKDU3YNkScJ8/lXelJzEdTtKFw9/\n",
       "7jXxpdqnCMvDjnpWDZlJMJ/SzC5qoEinvDim2DrvIsGTa+wBpxX/KVxmTXhOHmFbcVSnFGSegmoG\n",
       "TAjQaMbDTrVkgzOEII1YmXQsk2d/7Uj3Y3FVOpqQbkCQNfXfEZA+4WpMWAqScZKOYs3kdcHGzWTR\n",
       "TuvCfXYU/2386bPzM0E84NruFzccyXhYMLfzgz9Atcj5d6tKed5dVbxcUJRvF/uWPIEkly2DtIM6\n",
       "KYXCuA6AQJCfi5aFR+8K2KZUczjYsfSkCHuNB+JOeo8Qrsz+kq5uZqID/dsfvr2bD99C8nqNJnI3\n",
       "jarf84qOaeN/rJ80SnlF49QfWU1taQff7d0UCZfCRr+G1n7a+apvS93IgKl5sDxjpVL08RPAqstI\n",
       "/NTonAnJx6MHgYSO+ZYdOIsh8PJcXA3r4WcZxslqUV3hcBEPXvPpufLMJsGqCbxIsqtjBTEjUhVM\n",
       "2+drjivzyx9qaj4VP5FRBhzzwGxgFAAAANQBn7NqQ38IbhiRggAIbrsCy24Uy3klKAKHgp16wVBQ\n",
       "RGOxhNSCFawJ7899+9IFMawr2oj0KcXlitAEEqSRuNjxIptSRDZPxVQZoCIJSMds7S6EE6SE7bsn\n",
       "CM7v144RFTRLHVsJH03HW/eOwdsKxdrtPsUwMFKR3M6ci0tSsJlQ3PltyvmSRBPWjmQGYAQHN4Ul\n",
       "q/gncLJnL2XUcxqAfWP2hxSVziv63VQH7V3ulJr1BEOsUOvjRrqAbEgna6vd2BeUwrDmryL5A+ZE\n",
       "u48R5pbpR7xxwAAAAotBm7ZJ4Q6JlMFEw//+qZxCdhli96xeAAVp0CUGi3Fqkt3XWdF0YNJiVXe0\n",
       "6ugBjjdMvKKebwh2E4ykMC93eBeKHv44/gHI3aRzxLNYdqjdWXC+MFWMC3Gp6a4j6h7Q56mVjmge\n",
       "vlwPtHHRtqIQ6f75oplR3a0I4AX+RlumzeuQRG0fsS/vnijPzkJ9gUSNYir+PQuvoJNotv9k670l\n",
       "pa+Jmjv08zBDdhpoYxbjH3PSYszyL4qoasYdiDSvemX5sgh/scEtggrktET/SWng3phptCU0YD2T\n",
       "s3rUA29MroI/1Wl7ay7dNbWNFzEh0W5EivBFE34Ja/yFWH8z9vDPxhZJYPT/nYBdt0mfVJ2Ntxl0\n",
       "hc24tcW7/9pAvg4tCSrx2xTiFXMqZmna64fQe0WGyiZwfKDidt+sKE12WLOmbFohqY5R53E+kh5p\n",
       "pbB6+8SVn1OfIazvW7C7m+j0sr0pAGd4TOa3zZP/d/Jy2Pj7UfE/Ksm/355gQcf34l0nO/gat+5j\n",
       "VnL8zNJRctHZtFUHnWNSBs2U9V+VjiEjmbonYAAUO6ImQpxAgI85e69egUi37d9LUMJQ6L5lNwqm\n",
       "BbxgtlbTa8p5Wy/m68Ac3TVcAw8dL2Po7sAcv+FnVdFQrDnMtuhRzTAc7bfh+T+OijyIdMQF3mPL\n",
       "oUgxNd+Shnw5sW012pJMAQkNTK6DX4s5xRa9dSLNSkk1Q3hTJczbjhBlhdge3gTV/3XP58ef08An\n",
       "44NA+ZWBz3TgvoR7v++Hj6x6D8MnJvY6GFJPt/i9UDNaKZTlcAoQ18eISMGZBGFXr+AykrXEQLuT\n",
       "2TytINZanf4VelwGf8jjSyar5uaeL5s5t/LIp8QpRk6NCqQGNyEAAAEnAZ/VakN/BqzgcD5ogBCn\n",
       "x3ufj2/ESJ2XUiuNyrw5IoOf5vnUhMi/oXra/qd7e84+f61hDqBy+Paqj+KWHOc7PColD9QZi23S\n",
       "4IUwf0BZV/NlKrqeVA4H3Ke6CmOePV/p30pUdrwbMtOdX9IaHcEpyKhpfqoIVa0GLSn7YnoOJr3i\n",
       "Nxgn7LPEbQE1CJ8aGgCyqV1krO73BJcTt3me7ppA4su/GGq0A6kiNCRWevWkxa/70WK/OmkmwRBR\n",
       "TvXLHvBDeBj5HRCUfBivj0p2pko+GPtAuxH0GvAZIsT3MlqECwuWds69UNu0sRpWcMpz4TKrlu6e\n",
       "d8Ao9FlkSRILmasK7cFQFxdaG8S1OSORSwNa/U6tvjz6zpY7uaYTXC0au8/ooBa/1oqEvQAAAehB\n",
       "m9dJ4Q8mUwIIf/6qV3032DYUACagky4mw6PKbh+yuOUtCi0EAJclZ4vyeyYw01j8wSrk4/m/VTvo\n",
       "lcAI/Ue7u9TRSocDCCnqjB/KNp1WciTnlnuyoLlC0nIyWu7I4crJELBsW5GAZ11XJdbttNhSgotC\n",
       "UHNsw9wDQ4+FU9NLtb5/wW2oDew4gzD96IZ+596Bi0BtF/7nFGUMUks95EFqATXdfiQmaO/zaAql\n",
       "nWpivOFHJXWMYW5j35T6iMXOPEQXI7U+l/Q/aGJ8VHrTHutOG0TZB+3V3cXcbBHSWXLUbyWHubwH\n",
       "lTqQM6u+lOP7bRwAv/SIlUB8hJv398Y87xBd40bbhVH+QSaVoC4rfCrDSBCq6QXzYxcR0FlcOoyI\n",
       "jjmlwOwtc+3wH2YjzQNco+BVfgVdf6OL8B7w1RWOL1Fg1zFKz0m0/7nTRjqtnYRAP5D7PZfyhtR9\n",
       "lMDjOZaul91LHCPdg1D+C4tCUa8UWWyx0beMf3QR9c9h9SwaIeriUVJiAKU0Ib53JJX2TrzLujCX\n",
       "PPea5aPlw0oY5p6TrYF/lXJrbeakclAsYDoGuZXsfyNK36PgLtScviyP0ezARJCjZdE2utvUPyja\n",
       "LYsmjeewf7Fatn1wKAMU0v0Uvq61d1e+xrG4Iz2PkwAAAnhBm/lJ4Q8mUwURPD///qmcnUOtABO2\n",
       "w9oqUedijPveYeVkPK4iILlrpvGpcDnW/22Aljh6VgIHrqzCAjf+BMEPu2zNeFNe7f6n521vr/Or\n",
       "qiaR1egpdUE2g/aj8Tp/rjRY/73NYh3n99WOeKWhLcsBl9LPVvCeepja/zxg3I/WJVmWA4DUHO3l\n",
       "fuFfs6t2FQprBOULpLg8ZZ6apev+CeXAr+rDzIxnbXEo0lKZnk6pX9nNHjRYQrf8HcBdzjBkSk+u\n",
       "7GG2POI/w5XDHDUolxec/jluG4w1qBXYNVL747AxxTPTcZcEM8iCdS7qf8awD9P9gGGzU+qU/Xgg\n",
       "98DX4KtIbrgC8AN1i5LOfkZEU7Nwtghs7hMKzHZNWKtxl/26fy7Gvu0BqaknD7eVvMI/4UIpSsUg\n",
       "9EynHVMmlE2tEeDraM1vN0Mb188bTaXQI97CJvo9ByO50WwpHIbv5PJKNLsPaKJkQmZMUrPhINGm\n",
       "wOh49zB4Q5ynizJbBMiA8LsKqXx3HE21sEpdkWRAakcUKfUoZx8YrD8RpbfZephEvr1zLnSng17D\n",
       "J1N78fQi9T/+GLvGn38sAMx2ghjXPFJrgsLccIthBOKQNcbA3cIDqAfDQLnLX6sb0HSdguK/auAy\n",
       "chQVMSWMSUcEA7whQtrvkmo1MW4+HyxKexb4jEoJv2DvG0RA0zm3NPwVBXfBsrPAKwokcxeQA+g6\n",
       "7z+7Wd4KoLcTd5tpJ3hnz9GxkIZCcQWTNa+fQz7UPp55Jl6GJSKBkye+wZa3dy1+IJ5+dhYFeB4a\n",
       "OyqYefud9cJ0PuXASF94voHj81VoWbGgCOOUKm5hoju6tP+upZL5XQAAARQBnhhqQ38GrMckh/w5\n",
       "WQUQAH/vKpEfj+j3rX4SM+OVw6ZXrAWGdQBjDrMmfRN3sQp0buoreFu8kVyvKRYm+mXf45plB6oM\n",
       "2llM5T6gE0Xq/iimfdydKIDmbFySCENt82txn/evQUOMOmDQYpWNuUDMvEcNCaz0FugROQudt4i7\n",
       "rPD1eL+0mAFO3hd/E7KidzGcNZCJqoBNqCKHZu4HsHJVgV1/IojTf56tDSq1+TlJWq5rIZ8dxGiZ\n",
       "nDUY7k84nieubRRkJlpeUVicznc6IgFZOiAJ840qDBHZmGnYdMRChXqH++6O6rzNvLNx3YRXOUFY\n",
       "12qV3BOouCOaYxlH2M1oBzNSVz/k/wo9sYeKyl2IVGi/50wAAAIKQZobSeEPJlMFPD///qmcZwI0\n",
       "AEQSE3d9VKgw685WK9GOljsjRaHAMSvPElu5cM/2n3LcKgvaWV3ykzzRQRPLJXjGxx9iXosAE53Y\n",
       "dtflxpt6ANwohaY3qGfwhWT/PRsyFQlzEHYlvFP0WFe0iR9FJah2GmwCzuLjORCgNJWXgrdvhF58\n",
       "MzQ0KxRXbQDLZElzyyXcbEmWjhvfUJBbspH/NSgY6d3xpxeGI76HanmMFCqm7s/bgROGyhZkNua+\n",
       "uVdZO8UYG9eLOi0EuOWPUa7JYiUfH9F7NhBjF7dwJqLuKMrg57U2YMT85bPfrmqQnhqCHi0X1OF8\n",
       "Yczzk07x4pj4xKz25VbEfZBF/hMYbMW0NhNazv2gMgQ8W20jCjoeZUV/XyubXYvIHJwEyTMNhz4D\n",
       "RWHp7LJIn4FbKJJpuWmGnubG8HKcdk1PSbSeWzT55xUwO3x2b8w8nxsBJN9nDiBlpvfqoyMlS55a\n",
       "se5AXxOWZXxT+eDGAFs22eEPoMoMTxQrkwSdVYTIZFu1ig3AfqGQPqbKw1stCP5cYmUjNUJ3Cixy\n",
       "8e82WX86n5LkXAHUccoTGU3/kDx/hdOsSHNllEcJX0klN6WkhLJ61kevukTWGOUTZoxGlYEQIuPF\n",
       "pgeEwjdzLDgalfaoY6UDSFURIP2HqFnqjhqCkESQwj8P2KeSjmGrr+/C4FNBpRZBAAAA9AGeOmpD\n",
       "fwc2xXHRACFPeUzT6FBhCxfdZ5rra4ZzUVhd4bYDATBzGzr2oU4Gs+QXXzQA0vR6Yov4KYCJJOf/\n",
       "T0fnm3qRMtCPdwJz6E2U2pLGZzDa0pC7QwV5KkYmoFTyQ9dr9l1stX0qnRU94PgeDslEZCucKB0Q\n",
       "Aj0zBTP5IMzgh4z8bziCFn9BcqJm008NB35a04ENU44hy0/8nVq0i0+t4mNVx0VCIy5TmFfEHCUt\n",
       "ajytyqvLEKOdiYWFSCXFZ/uxbrOmIi+RjZQMUZYCI3bsqMcl07f2QjPp1i6rkevRCSVQ3oQ+g8NG\n",
       "Zhxns3tYkWiFVBAAAAFsQZo9SeEPJlMFPDf//qePPLvIABEHuR662DQciRvVfo8kAN6s648PQ3Uy\n",
       "tEzM3rkLmi03N3t4hMpX0KH1ZyjfEJ1FHuKMFIYDaa21lBHa0/UBp8EvLoWILn3dX45yofAlenes\n",
       "GjAbKMPIyOMTZrxGighJayV1THfPqlRaRZGkig3OnC6/l+NksZh7cSKNeNmOBzd+0lgEapwKm9ad\n",
       "v6nUkBeZGwQDcKjcRwxEbv/+uQAohexyzwKUv3ifl7xdFdA97aOeuUFR3gNQxfufweyzi6XrME0x\n",
       "art3P2OXDXZFdhhv/QPF4UWZihz5Fj71DLFMX72x8pxqydZMA5khoasrx9S3WclTrwCE/koaMI9d\n",
       "PIRFfbY3bRrzq5ZcubYWie682g+deYDdCNI/R1//CKv9mldcFNWZHRFaLD5BzDOib5P/3/QjSerG\n",
       "swzn72PHiKiUn8SHZugdE8j5KgwKEXr9nGhe7NeIRwd/XvM5IwAAAQkBnlxqQ38HQ5ziADZDAVsr\n",
       "8moFlGaoAquTXGWJckmflvj3C7lnuoeLnJabLR6pp+WemDw6HD8moCqedgggEtIOnk9iC4MH0rdb\n",
       "OOFPAp7IJP++ZWGK0hW9EyDLSJVONtlPL/AAqkZEPoVX0iNyG4DU2k9S/RunaHCh8FCbp9iicOHS\n",
       "qjNytUAAACkioFhepgkYHXvpfZo9Rs3Ad5psoHmZ05QA+LdRvBfuSNFCxZEXBbt4jDwq11ebev99\n",
       "0ytxVOuuoNITcf1o2lP5PcicrvNSWsjM3H8KUlQ8F0wjewUU4HQJuSbAuYxnuqZBkEVQc9OMue3U\n",
       "tlGmP1wiZ2jPqu+nY8iZG07Yco+BAAAEhm1vb3YAAABsbXZoZAAAAAAAAAAAAAAAAAAAA+gAAAu4\n",
       "AAEAAAEAAAAAAAAAAAAAAAABAAAAAAAAAAAAAAAAAAAAAQAAAAAAAAAAAAAAAAAAQAAAAAAAAAAA\n",
       "AAAAAAAAAAAAAAAAAAAAAAAAAAAAAAIAAAOwdHJhawAAAFx0a2hkAAAAAwAAAAAAAAAAAAAAAQAA\n",
       "AAAAAAu4AAAAAAAAAAAAAAAAAAAAAAABAAAAAAAAAAAAAAAAAAAAAQAAAAAAAAAAAAAAAAAAQAAA\n",
       "AAGwAAABIAAAAAAAJGVkdHMAAAAcZWxzdAAAAAAAAAABAAALuAAACAAAAQAAAAADKG1kaWEAAAAg\n",
       "bWRoZAAAAAAAAAAAAAAAAAAAKAAAAHgAVcQAAAAAAC1oZGxyAAAAAAAAAAB2aWRlAAAAAAAAAAAA\n",
       "AAAAVmlkZW9IYW5kbGVyAAAAAtNtaW5mAAAAFHZtaGQAAAABAAAAAAAAAAAAAAAkZGluZgAAABxk\n",
       "cmVmAAAAAAAAAAEAAAAMdXJsIAAAAAEAAAKTc3RibAAAALNzdHNkAAAAAAAAAAEAAACjYXZjMQAA\n",
       "AAAAAAABAAAAAAAAAAAAAAAAAAAAAAGwASAASAAAAEgAAAAAAAAAAQAAAAAAAAAAAAAAAAAAAAAA\n",
       "AAAAAAAAAAAAAAAAAAAAABj//wAAADFhdmNDAWQAFf/hABhnZAAVrNlBsJaEAAADAAQAAAMAUDxY\n",
       "tlgBAAZo6+PLIsAAAAAcdXVpZGtoQPJfJE/FujmlG88DI/MAAAAAAAAAGHN0dHMAAAAAAAAAAQAA\n",
       "AB4AAAQAAAAAFHN0c3MAAAAAAAAAAQAAAAEAAADwY3R0cwAAAAAAAAAcAAAAAQAACAAAAAABAAAM\n",
       "AAAAAAEAAAQAAAAAAQAACAAAAAABAAAMAAAAAAEAAAQAAAAAAQAADAAAAAABAAAEAAAAAAEAAAgA\n",
       "AAAAAQAAEAAAAAACAAAEAAAAAAEAAAwAAAAAAQAABAAAAAABAAAQAAAAAAIAAAQAAAAAAQAADAAA\n",
       "AAABAAAEAAAAAAEAAAwAAAAAAQAABAAAAAABAAAMAAAAAAEAAAQAAAAAAQAACAAAAAABAAAMAAAA\n",
       "AAEAAAQAAAAAAQAADAAAAAABAAAEAAAAAAEAAAwAAAAAAQAABAAAAAAcc3RzYwAAAAAAAAABAAAA\n",
       "AQAAAB4AAAABAAAAjHN0c3oAAAAAAAAAAAAAAB4AABQEAAADbgAAAT4AAAKFAAAC2AAAATAAAALb\n",
       "AAABBgAAAhgAAANBAAABFwAAAPEAAAKGAAAA/gAAAwAAAAEuAAABBgAAAjAAAADmAAAC1gAAANgA\n",
       "AAKPAAABKwAAAewAAAJ8AAABGAAAAg4AAAD4AAABcAAAAQ0AAAAUc3RjbwAAAAAAAAABAAAALAAA\n",
       "AGJ1ZHRhAAAAWm1ldGEAAAAAAAAAIWhkbHIAAAAAAAAAAG1kaXJhcHBsAAAAAAAAAAAAAAAALWls\n",
       "c3QAAAAlqXRvbwAAAB1kYXRhAAAAAQAAAABMYXZmNTcuODEuMTAw\n",
       "\">\n",
       "  Your browser does not support the video tag.\n",
       "</video>"
      ],
      "text/plain": [
       "<IPython.core.display.HTML object>"
      ]
     },
     "execution_count": 33,
     "metadata": {},
     "output_type": "execute_result"
    }
   ],
   "source": [
    "# create an animation of the traffic density\n",
    "anim = animation.FuncAnimation(\n",
    "    fig, update_plot, frames=nt, fargs=(rho_hist,), interval=100)\n",
    "# display the video\n",
    "HTML(anim.to_html5_video())"
   ]
  }
 ],
 "metadata": {
  "kernelspec": {
   "display_name": "Python 3",
   "language": "python",
   "name": "python3"
  },
  "language_info": {
   "codemirror_mode": {
    "name": "ipython",
    "version": 3
   },
   "file_extension": ".py",
   "mimetype": "text/x-python",
   "name": "python",
   "nbconvert_exporter": "python",
   "pygments_lexer": "ipython3",
   "version": "3.6.1"
  }
 },
 "nbformat": 4,
 "nbformat_minor": 2
}
