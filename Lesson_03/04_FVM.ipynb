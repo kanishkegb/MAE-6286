{
 "cells": [
  {
   "cell_type": "markdown",
   "metadata": {},
   "source": [
    "## Finite-Volume Method (FVM)\n",
    "\n",
    "\n",
    "\n",
    "* FVM discretizations are very general and have no requirement that the grid be structured, like in the finite-difference method. This makes FVM very flexible.\n",
    "* FVM gives a conservative discretization automatically by using directly the conservation laws in integral form.\n",
    "\n",
    "### Conservative Discretization\n",
    "The law of conservation of mass says that the rate of change of mass in the control volume, plus the net rate of flow of mass across the control surfaces must be zero. The amount crossing the boundary is the flux. \n",
    "\n",
    "A general conservation law for a quantity e is thus:\n",
    "$$\n",
    "\\frac{\\partial}{\\partial t}\\int_{\\text{cv}}e \\, dV + \\oint_{\\text{cs}}\\vec{F}\\cdot d\\vec{A} =0\n",
    "$$\n",
    "where $\\vec{F}$ is the flux."
   ]
  },
  {
   "cell_type": "code",
   "execution_count": null,
   "metadata": {
    "collapsed": true
   },
   "outputs": [],
   "source": []
  }
 ],
 "metadata": {
  "kernelspec": {
   "display_name": "Python 3",
   "language": "python",
   "name": "python3"
  },
  "language_info": {
   "codemirror_mode": {
    "name": "ipython",
    "version": 3
   },
   "file_extension": ".py",
   "mimetype": "text/x-python",
   "name": "python",
   "nbconvert_exporter": "python",
   "pygments_lexer": "ipython3",
   "version": "3.6.1"
  }
 },
 "nbformat": 4,
 "nbformat_minor": 2
}
