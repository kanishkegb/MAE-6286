{
 "cells": [
  {
   "cell_type": "code",
   "execution_count": 1,
   "metadata": {},
   "outputs": [],
   "source": [
    "import numpy as np\n",
    "from matplotlib import pyplot as plt\n",
    "%matplotlib inline"
   ]
  },
  {
   "cell_type": "code",
   "execution_count": 2,
   "metadata": {},
   "outputs": [],
   "source": [
    "# set the font family and size to use for Matplotlib figures\n",
    "plt.rcParams['font.family'] = 'serif'\n",
    "plt.rcParams['font.size'] = 16"
   ]
  },
  {
   "cell_type": "code",
   "execution_count": 3,
   "metadata": {},
   "outputs": [],
   "source": [
    "# set parameters\n",
    "nx = 41  # number of spatial discrete points\n",
    "L = 2.0  # length of the 1D domain\n",
    "dx = L / (nx - 1)  # spatial grid size\n",
    "nt = 25  # number of time steps\n",
    "dt = 0.02  # time-step size\n",
    "c = 1.0  # convection speed\n",
    "\n",
    "# define the grid point coordinates\n",
    "x = np.linspace(0.0, L, num=nx)"
   ]
  },
  {
   "cell_type": "code",
   "execution_count": 4,
   "metadata": {},
   "outputs": [
    {
     "name": "stdout",
     "output_type": "stream",
     "text": [
      "[1. 1. 1. 1. 1. 1. 1. 1. 1. 1. 1. 1. 1. 1. 1. 1. 1. 1. 1. 1. 1. 1. 1. 1.\n",
      " 1. 1. 1. 1. 1. 1. 1. 1. 1. 1. 1. 1. 1. 1. 1. 1. 1.]\n",
      "(array([10, 11, 12, 13, 14, 15, 16, 17, 18, 19, 20]),)\n"
     ]
    }
   ],
   "source": [
    "# set initial conditions to 1.0\n",
    "u0 = np.ones(nx)\n",
    "\n",
    "# get a list of indices where 0.5 <= x <= 1.0.\n",
    "mask = np.where(np.logical_and(x >= 0.5, x <= 1.0))\n",
    "\n",
    "print(u0)\n",
    "print(mask)"
   ]
  },
  {
   "cell_type": "code",
   "execution_count": 5,
   "metadata": {},
   "outputs": [
    {
     "name": "stdout",
     "output_type": "stream",
     "text": [
      "[1. 1. 1. 1. 1. 1. 1. 1. 1. 1. 2. 2. 2. 2. 2. 2. 2. 2. 2. 2. 2. 1. 1. 1.\n",
      " 1. 1. 1. 1. 1. 1. 1. 1. 1. 1. 1. 1. 1. 1. 1. 1. 1.]\n"
     ]
    }
   ],
   "source": [
    "# set initial condition within the mask to 2.0\n",
    "u0[mask] = 2.0\n",
    "print(u0)"
   ]
  },
  {
   "cell_type": "code",
   "execution_count": 6,
   "metadata": {},
   "outputs": [
    {
     "data": {
      "image/png": "[encoded data removed]",
      "text/plain": [
       "<Figure size 288x288 with 1 Axes>"
      ]
     },
     "metadata": {},
     "output_type": "display_data"
    }
   ],
   "source": [
    "# plot the initial conditions\n",
    "plt.figure(figsize=(4.0, 4.0))\n",
    "plt.title('Initial conditions')\n",
    "plt.xlabel('x')\n",
    "plt.ylabel('u')\n",
    "plt.grid()\n",
    "plt.plot(x, u0, color='C0', linestyle='--', linewidth=2)\n",
    "plt.xlim(0.0, L)\n",
    "plt.ylim(0.0, 2.5);"
   ]
  },
  {
   "cell_type": "code",
   "execution_count": 7,
   "metadata": {},
   "outputs": [],
   "source": [
    "u = u0.copy()\n",
    "for n in range(1, nt):\n",
    "    un = u.copy()\n",
    "    for i in range(1, nx):\n",
    "        u[i] = un[i] - c * dt / dx * (un[i] - un[i - 1])"
   ]
  },
  {
   "cell_type": "code",
   "execution_count": 8,
   "metadata": {},
   "outputs": [
    {
     "data": {
      "image/png": "[encoded data removed]",
      "text/plain": [
       "<Figure size 288x288 with 1 Axes>"
      ]
     },
     "metadata": {},
     "output_type": "display_data"
    }
   ],
   "source": [
    "# plot the solution\n",
    "plt.figure(figsize=(4.0, 4.0))\n",
    "plt.xlabel('x')\n",
    "plt.ylabel('u')\n",
    "plt.grid()\n",
    "plt.plot(x, u0, label='Initial', color='C0', linestyle='--', linewidth=2)\n",
    "plt.plot(x, u, label='nt = {}'.format(nt), color='C1', linestyle='-', linewidth=2)\n",
    "plt.legend()\n",
    "plt.xlim(0.0, L)\n",
    "plt.ylim(0.0, 2.5);"
   ]
  },
  {
   "cell_type": "code",
   "execution_count": 9,
   "metadata": {},
   "outputs": [],
   "source": [
    "# set parameters\n",
    "nx = 41  # number of spatial discrete points\n",
    "L = 2.0  # length of the 1D domain\n",
    "dx = L / (nx - 1)  # spatial grid size\n",
    "nt = 10  # number of time steps\n",
    "dt = 0.02  # time-step size\n",
    "\n",
    "x = np.linspace(0.0, L, num=nx)\n",
    "u0 = np.ones(nx)\n",
    "mask = np.where(np.logical_and(x >= 0.5, x <= 1.0))\n",
    "u0[mask] = 2.0"
   ]
  }
 ],
 "metadata": {
  "kernelspec": {
   "display_name": "Python 3",
   "language": "python",
   "name": "python3"
  },
  "language_info": {
   "codemirror_mode": {
    "name": "ipython",
    "version": 3
   },
   "file_extension": ".py",
   "mimetype": "text/x-python",
   "name": "python",
   "nbconvert_exporter": "python",
   "pygments_lexer": "ipython3",
   "version": "3.6.2"
  }
 },
 "nbformat": 4,
 "nbformat_minor": 2
}
