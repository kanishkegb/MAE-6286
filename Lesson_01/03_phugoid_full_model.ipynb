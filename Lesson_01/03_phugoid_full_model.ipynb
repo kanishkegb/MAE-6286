{
 "cells": [
  {
   "cell_type": "markdown",
   "metadata": {},
   "source": [
    "### Phugoid Model\n",
    "\n",
    "The system equation:\n",
    "$$\n",
    "\\begin{align}\n",
    "    v' & = - g\\sin\\theta - \\frac{C_D}{C_L} \\frac{g}{v_t^2} v^2 \\\\\n",
    "    \\theta' & = - \\frac{g}{v}\\cos\\theta + \\frac{g}{v_t^2}v\n",
    "\\end{align}\n",
    "$$\n",
    "\n",
    "Converting the velocity into inertial coordinate frame ($x$, $y$),\n",
    "$$\n",
    "\\begin{align}\n",
    "     x'(t) & = v \\cos(\\theta) \\\\\n",
    "     y'(t) & = v \\sin(\\theta)\n",
    "\\end{align}\n",
    "$$"
   ]
  },
  {
   "cell_type": "markdown",
   "metadata": {},
   "source": [
    "### Descritization\n",
    "\n",
    "$$\n",
    "\\begin{align}\n",
    "    v^{n+1} & = v^n + \\Delta t \\, \\left(- g\\sin\\theta^n - \\frac{C_D}{C_L} \\frac{g}{v_t^2} (v^n)^2 \\right) \\\\\n",
    "    \\theta^{n+1} & = \\theta^n + \\Delta t \\, \\left(- \\frac{g}{v^n}\\cos\\theta^n + \\frac{g}{v_t^2} v^n \\right) \\\\\n",
    "    x^{n+1} & = x^n + \\Delta t \\, v^n \\cos\\theta^n \\\\\n",
    "    y^{n+1} & = y^n + \\Delta t \\, v^n \\sin\\theta^n\n",
    "\\end{align}\n",
    "$$\n",
    "\n",
    "Re-arranging above equation into the form $u'(t) = f(u)$,\n",
    "\n",
    "$$\n",
    "\\begin{align}\n",
    "    u & = \n",
    "    \\begin{pmatrix} \n",
    "    v \\\\ \\theta \\\\ x \\\\ y \n",
    "    \\end{pmatrix}\n",
    "    &\n",
    "    f(u) & = \n",
    "    \\begin{pmatrix} \n",
    "    - g \\sin\\theta - \\frac{C_D}{C_L} \\frac{g}{v_t^2} v^2 \\\\ \n",
    "    - \\frac{g}{v}\\cos\\theta + \\frac{g}{v_t^2} v \\\\\n",
    "    v\\,\\cos\\theta \\\\\n",
    "    v\\,\\sin\\theta \n",
    "    \\end{pmatrix}\n",
    "\\end{align}\n",
    "$$"
   ]
  },
  {
   "cell_type": "code",
   "execution_count": 1,
   "metadata": {
    "collapsed": true
   },
   "outputs": [],
   "source": [
    "import math\n",
    "import numpy as np\n",
    "from matplotlib import pyplot as plt\n",
    "%matplotlib inline"
   ]
  },
  {
   "cell_type": "code",
   "execution_count": 2,
   "metadata": {
    "collapsed": true
   },
   "outputs": [],
   "source": [
    "# set the font family and size\n",
    "plt.rcParams['font.family'] = 'serif'\n",
    "plt.rcParams['font.size'] = 16"
   ]
  },
  {
   "cell_type": "code",
   "execution_count": 3,
   "metadata": {
    "collapsed": true
   },
   "outputs": [],
   "source": [
    "# parameters\n",
    "g = 9.81\n",
    "vt = 30.0  # trim velocity\n",
    "CD = 1.0 / 40.0\n",
    "CL = 1.0\n",
    "\n",
    "# initial conditions\n",
    "v0 = vt\n",
    "th0 = 0.0  # trajectory angle\n",
    "x0 = 0.0  # horizontal position\n",
    "y0 = 1000.0  # altitude"
   ]
  },
  {
   "cell_type": "code",
   "execution_count": 4,
   "metadata": {
    "collapsed": true
   },
   "outputs": [],
   "source": [
    "def rhs_phugoid(u, CL, CD, g, vt):\n",
    "    '''\n",
    "    Returns the right hand side of the EOM of phugoid mode\n",
    "    \n",
    "    Parameters\n",
    "    ----------\n",
    "    u: list or np.ndarray\n",
    "        Solution at the previous time step as a list of 1D array of four floats\n",
    "    CL: float\n",
    "        Lift coefficient\n",
    "    CD: float\n",
    "        Drag coefficient\n",
    "    g: float\n",
    "        Gravitational acceleration\n",
    "    vt: float\n",
    "        Trim velocity\n",
    "        \n",
    "    Returns\n",
    "    -------\n",
    "    rhs: np.ndarray\n",
    "        RHS of the EOM as a 1D aray of fout floats\n",
    "    '''\n",
    "    \n",
    "    v, th, x, y = u\n",
    "    \n",
    "    rhs = np.array([\n",
    "        -g * math.sin(th) - CD / CL * g / vt**2 * v**2,\n",
    "        -g / v * math.cos(th) + g / vt**2 * v,\n",
    "        v * math.cos(th),\n",
    "        v * math.sin(th)\n",
    "    ])\n",
    "    \n",
    "    return rhs"
   ]
  },
  {
   "cell_type": "code",
   "execution_count": 5,
   "metadata": {
    "collapsed": true
   },
   "outputs": [],
   "source": [
    "def euler_step(u, f, dt, *args):\n",
    "    '''\n",
    "    Returns the solution at the next step using Euler's method\n",
    "    \n",
    "    Parameters\n",
    "    ----------\n",
    "    u: np.ndarray\n",
    "        Solution at the previous step as a 1D array of four floats\n",
    "    f: function\n",
    "        Function to compute the RHS of the system\n",
    "    dt: float\n",
    "        Step size\n",
    "    args: optional arguments\n",
    "        Positional arguments to pass to the function f\n",
    "        \n",
    "    Returns\n",
    "    -------\n",
    "    \n",
    "    u_new: np.ndarray\n",
    "        Solution at the next time step as a 1D array of floats\n",
    "    '''\n",
    "    \n",
    "    u_new = u + dt * f(u, *args)\n",
    "    \n",
    "    return u_new "
   ]
  },
  {
   "cell_type": "code",
   "execution_count": 7,
   "metadata": {
    "collapsed": true
   },
   "outputs": [],
   "source": [
    "T = 100.0  # time length\n",
    "dt = 0.1  # step size\n",
    "N = int(T / dt) + 1\n",
    "\n",
    "# array to save the output\n",
    "u = np.empty((N, 4))\n",
    "u[0] = np.array([v0, th0, x0, y0])\n",
    "\n",
    "# time integration with Euler's method\n",
    "for n in range(N - 1):\n",
    "    u[n + 1] = euler_step(u[n], rhs_phugoid, dt, CL, CD, g, vt)"
   ]
  },
  {
   "cell_type": "code",
   "execution_count": 9,
   "metadata": {
    "collapsed": true
   },
   "outputs": [],
   "source": [
    "x = u[:, 2]\n",
    "y = u[:, 3]"
   ]
  },
  {
   "cell_type": "code",
   "execution_count": 10,
   "metadata": {},
   "outputs": [
    {
     "data": {
      "image/png": "[encoded data removed]",
      "text/plain": [
       "<matplotlib.figure.Figure at 0x1fc833309e8>"
      ]
     },
     "metadata": {},
     "output_type": "display_data"
    }
   ],
   "source": [
    "# plot the glider path\n",
    "plt.figure(figsize=(9.0, 4.0))\n",
    "plt.title('Path of the glider (flight time = {})'.format(T))\n",
    "plt.xlabel('x')\n",
    "plt.ylabel('y')\n",
    "plt.grid()\n",
    "plt.plot(x, y, color='C0', linestyle='-', linewidth=2);"
   ]
  },
  {
   "cell_type": "markdown",
   "metadata": {
    "collapsed": true
   },
   "source": [
    "### Grid Convergence"
   ]
  },
  {
   "cell_type": "code",
   "execution_count": 11,
   "metadata": {
    "collapsed": true
   },
   "outputs": [],
   "source": [
    "# list of different time step sizes\n",
    "dt_values = [0.1, 0.05, 0.01, 0.005, 0.001]\n",
    "\n",
    "# empty list to save solution for each grid\n",
    "u_values = []\n",
    "\n",
    "for dt in dt_values:\n",
    "    N = int(T /dt) + 1\n",
    "    u = np.empty((N, 4))\n",
    "    u[0] = np.array([v0, th0, x0, y0])\n",
    "    \n",
    "    for n in range(N - 1):\n",
    "        u[n + 1] = euler_step(u[n], rhs_phugoid, dt, CL, CD, g, vt)\n",
    "    \n",
    "    u_values.append(u)"
   ]
  },
  {
   "cell_type": "code",
   "execution_count": 12,
   "metadata": {
    "collapsed": true
   },
   "outputs": [],
   "source": [
    "def l1_diff(u_coarse, u_fine, dt):\n",
    "    '''\n",
    "    Returns the difference in the L1-norm between the solution on a coarse\n",
    "    grid and the solution on a fine grid\n",
    "    \n",
    "    Parameters\n",
    "    ----------\n",
    "    u_coarse: np.ndarray\n",
    "        Solution on the coarse grid as an array of floats\n",
    "    u_fine: np.ndarray\n",
    "        Solution on the fine grid as an array of floats\n",
    "    dt: float\n",
    "        Step size\n",
    "        \n",
    "    Returns\n",
    "    -------\n",
    "    diff: float\n",
    "        The difference between the two solutions in the L1-norm, scaled by dt\n",
    "    '''\n",
    "    \n",
    "    N_coarse = len(u_coarse)\n",
    "    N_fine = len(u_fine)\n",
    "    ratio = math.ceil(N_fine / N_coarse)\n",
    "    \n",
    "    diff = dt * np.sum(np.abs(u_coarse - u_fine[::ratio]))\n",
    "    \n",
    "    return diff"
   ]
  },
  {
   "cell_type": "code",
   "execution_count": 13,
   "metadata": {
    "collapsed": true
   },
   "outputs": [],
   "source": [
    "diff_values = []\n",
    "\n",
    "for i, dt in enumerate(dt_values[:-1]):\n",
    "    diff = l1_diff(u_values[i][:, 2], u_values[-1][:, 2], dt)\n",
    "    diff_values.append(diff)"
   ]
  },
  {
   "cell_type": "code",
   "execution_count": 14,
   "metadata": {},
   "outputs": [
    {
     "data": {
      "image/png": "[encoded data removed]",
      "text/plain": [
       "<matplotlib.figure.Figure at 0x1fc83349550>"
      ]
     },
     "metadata": {},
     "output_type": "display_data"
    }
   ],
   "source": [
    "plt.figure(figsize=(6.0, 6.0))\n",
    "plt.title('L1-norm difference vs. time-step size')\n",
    "plt.xlabel('$\\Delta t$')\n",
    "plt.ylabel('Difference')\n",
    "plt.grid()\n",
    "plt.loglog(dt_values[:-1], diff_values,\n",
    "              color='C0', linestyle='--', marker='o')\n",
    "plt.axis('equal');"
   ]
  },
  {
   "cell_type": "code",
   "execution_count": null,
   "metadata": {
    "collapsed": true
   },
   "outputs": [],
   "source": [
    "r = 2  # refinement ratio for the time-step size\n",
    "h = 0.001  # base grid size\n",
    "\n",
    "dt_values2 = [h, r * h, r**2 * h]\n",
    "u_values2 = []\n",
    "\n",
    "for dt in dt_values2:\n",
    "    N = int(T / dt) + 1\n",
    "    u = np.empty((N, 4))\n",
    "    \n",
    "    u[0] = np.array([v0, th0, x0, y0])\n",
    "    \n",
    "    # integration using Euler's method.\n",
    "    for n in range(N - 1):\n",
    "        u[n + 1] = euler_step(u[n], rhs_phugoid, dt, CL, CD, g, vt)\n",
    "    \n",
    "    u_values2.append(u)\n",
    "\n",
    "# calculate f2 - f1.\n",
    "f2_f1 = l1_diff(u_values2[1][:, 2], u_values2[0][:, 2], dt_values2[1])\n",
    "# Calculate f3 - f2.\n",
    "f3_f2 = l1_diff(u_values2[2][:, 2], u_values2[1][:, 2], dt_values2[2])\n",
    "# Calculate the observed order of convergence.\n",
    "p = math.log(f3_f2 / f2_f1) / math.log(r)\n",
    "print('Observed order of convergence: p = {:.3f}'.format(p))"
   ]
  }
 ],
 "metadata": {
  "kernelspec": {
   "display_name": "Python 3",
   "language": "python",
   "name": "python3"
  },
  "language_info": {
   "codemirror_mode": {
    "name": "ipython",
    "version": 3
   },
   "file_extension": ".py",
   "mimetype": "text/x-python",
   "name": "python",
   "nbconvert_exporter": "python",
   "pygments_lexer": "ipython3",
   "version": "3.6.1"
  }
 },
 "nbformat": 4,
 "nbformat_minor": 2
}
